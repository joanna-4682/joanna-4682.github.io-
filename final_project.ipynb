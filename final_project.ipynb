{
 "cells": [
  {
   "cell_type": "markdown",
   "id": "checked-cheese",
   "metadata": {},
   "source": [
    "# CMSC320 Final Project: Data Science Pipeline Tutorial"
   ]
  },
  {
   "cell_type": "markdown",
   "id": "western-position",
   "metadata": {},
   "source": [
    "## Outline:\n",
    "\n",
    "- 1. Introduction\n",
    "    - 1.1 Purpose of this Program\n",
    "- 2. Set Up\n",
    "    - 2.1 Obtaining the Data\n",
    "- 3. Tidying the Data\n",
    "    - 3.1 Filtering Data\n",
    "    - 3.2 Unneeded Data\n",
    "    - 3.3 Missing Data\n",
    "    - 3.4 Simplifying Data\n",
    "    - 3.5 Changing Data Types\n",
    "    - 3.6 Creating New Data Column\n",
    "- 4. Exploratory Data Analysis and Visualization \n",
    "    - 4.1 Numerical Data\n",
    "    - 4.2 Categorical Data\n",
    "    - 4.3 Summary\n",
    "- 5. Machine Learning Algorithm\n",
    "    - 5.1 Decision Tree Model\n",
    "    - 5.2 Linear Regression Model"
   ]
  },
  {
   "cell_type": "markdown",
   "id": "joint-seven",
   "metadata": {},
   "source": [
    "## 1. Introduction"
   ]
  },
  {
   "cell_type": "markdown",
   "id": "extra-welding",
   "metadata": {},
   "source": [
    "This tutorial walks you through the Data Science pipeline of data curation, parsing and management, expoloratory data analysis, hypothesis testing, and machine learning. The data set used in this tutorial is the Heart Failure Prediction data set is found in Kaggle, a subsidiary of Google LLC, is an online community of data scientists and machine learning practitioners. This data set was chosen because it gives us a large number of records while also giving us the opportunity to walk through the entire pipeline. I hope you enjoy the tutorial!"
   ]
  },
  {
   "cell_type": "markdown",
   "id": "devoted-moldova",
   "metadata": {},
   "source": [
    "### 1.1. Purpose of this Program"
   ]
  },
  {
   "cell_type": "markdown",
   "id": "higher-treatment",
   "metadata": {},
   "source": [
    "Before the COVID-19 pandemic, the United States movie box office alone raked in \\\\$11.3 billion in 2019 while the world wide box office totaled \\\\$42.2 billion. Movie companies put in a large amount of effort making sure that their films turn a profit, including hiring the reputable directors and actors, spending money on advertising and marketing, scheduling certain release dates (ex: more movies are released around the summer time or major holidays), and various other factors. The budgets for movies tend to be an expensive investment, but the pay off for a successful movie is what spurs movie businesses to continue creating movies.\n",
    "\n",
    "Movie production companies often attempt to project how well an unreleased movie would perform, and often refuse to greenlight certain movies because they are concerned that it will be unable to turn a profit. Due to the high risk high reward, it is important for companies to identify which movies are a worthy investment of a larger budget.  Given that major films costing over $100 million to produce can still flop, this question is more important than ever to the industry. \n",
    "\n",
    "The below program will take a data base of movies and determine what factors impact it's box office performance and ultimately be able to create an efficient prediction algorithm to identify whether a given movie would be profitable for the company"
   ]
  },
  {
   "cell_type": "markdown",
   "id": "auburn-webmaster",
   "metadata": {},
   "source": [
    "## 2. Set Up"
   ]
  },
  {
   "cell_type": "markdown",
   "id": "smaller-vanilla",
   "metadata": {},
   "source": [
    "Below are packages that we will be using for this tutorial."
   ]
  },
  {
   "cell_type": "code",
   "execution_count": 351,
   "id": "stone-venture",
   "metadata": {},
   "outputs": [],
   "source": [
    "import pandas as pd\n",
    "import seaborn as sns\n",
    "import matplotlib.pyplot as plt\n",
    "import numpy as np\n",
    "import sklearn\n",
    "from sklearn.preprocessing import LabelEncoder\n",
    "from sklearn.preprocessing import RobustScaler\n",
    "from sklearn.model_selection import train_test_split\n",
    "from sklearn.linear_model import LinearRegression\n",
    "from sklearn.metrics import mean_squared_error"
   ]
  },
  {
   "cell_type": "markdown",
   "id": "aggregate-auction",
   "metadata": {},
   "source": [
    "Run this to get rid of scienctific notation in pandas"
   ]
  },
  {
   "cell_type": "code",
   "execution_count": 352,
   "id": "posted-stable",
   "metadata": {},
   "outputs": [],
   "source": [
    "pd.set_option('display.float_format', lambda x: '%.3f' % x)"
   ]
  },
  {
   "cell_type": "markdown",
   "id": "electronic-ferry",
   "metadata": {},
   "source": [
    "### 2.1. Obtaining the Data"
   ]
  },
  {
   "cell_type": "markdown",
   "id": "dressed-moderator",
   "metadata": {},
   "source": [
    "The data set is avaliable through this link: https://www.kaggle.com/tmdb/tmdb-movie-metadata?select=tmdb_5000_movies.csv\n",
    "\n",
    "Click the download button on the right, which will download a zipped file of the data set. Unzip the tmdb_5000_movies.csv data file and move it to the appropriate folder where your code file is also located. This way, you will be able to access the csv data file. If you do not want to cannot move the csv file to the appropriate folder, use the path for csv file instead of the \"tmdb_5000_movies.csv\". \n",
    "\n",
    "Once you have completed the above steps, we can read the data into our notebook using pandas. "
   ]
  },
  {
   "cell_type": "code",
   "execution_count": 353,
   "id": "weekly-italic",
   "metadata": {},
   "outputs": [
    {
     "data": {
      "text/html": [
       "<div>\n",
       "<style scoped>\n",
       "    .dataframe tbody tr th:only-of-type {\n",
       "        vertical-align: middle;\n",
       "    }\n",
       "\n",
       "    .dataframe tbody tr th {\n",
       "        vertical-align: top;\n",
       "    }\n",
       "\n",
       "    .dataframe thead th {\n",
       "        text-align: right;\n",
       "    }\n",
       "</style>\n",
       "<table border=\"1\" class=\"dataframe\">\n",
       "  <thead>\n",
       "    <tr style=\"text-align: right;\">\n",
       "      <th></th>\n",
       "      <th>budget</th>\n",
       "      <th>genres</th>\n",
       "      <th>homepage</th>\n",
       "      <th>id</th>\n",
       "      <th>keywords</th>\n",
       "      <th>original_language</th>\n",
       "      <th>original_title</th>\n",
       "      <th>overview</th>\n",
       "      <th>popularity</th>\n",
       "      <th>production_companies</th>\n",
       "      <th>production_countries</th>\n",
       "      <th>release_date</th>\n",
       "      <th>revenue</th>\n",
       "      <th>runtime</th>\n",
       "      <th>spoken_languages</th>\n",
       "      <th>status</th>\n",
       "      <th>tagline</th>\n",
       "      <th>title</th>\n",
       "      <th>vote_average</th>\n",
       "      <th>vote_count</th>\n",
       "    </tr>\n",
       "  </thead>\n",
       "  <tbody>\n",
       "    <tr>\n",
       "      <th>0</th>\n",
       "      <td>237000000</td>\n",
       "      <td>[{\"id\": 28, \"name\": \"Action\"}, {\"id\": 12, \"nam...</td>\n",
       "      <td>http://www.avatarmovie.com/</td>\n",
       "      <td>19995</td>\n",
       "      <td>[{\"id\": 1463, \"name\": \"culture clash\"}, {\"id\":...</td>\n",
       "      <td>en</td>\n",
       "      <td>Avatar</td>\n",
       "      <td>In the 22nd century, a paraplegic Marine is di...</td>\n",
       "      <td>150.438</td>\n",
       "      <td>[{\"name\": \"Ingenious Film Partners\", \"id\": 289...</td>\n",
       "      <td>[{\"iso_3166_1\": \"US\", \"name\": \"United States o...</td>\n",
       "      <td>2009-12-10</td>\n",
       "      <td>2787965087</td>\n",
       "      <td>162.000</td>\n",
       "      <td>[{\"iso_639_1\": \"en\", \"name\": \"English\"}, {\"iso...</td>\n",
       "      <td>Released</td>\n",
       "      <td>Enter the World of Pandora.</td>\n",
       "      <td>Avatar</td>\n",
       "      <td>7.200</td>\n",
       "      <td>11800</td>\n",
       "    </tr>\n",
       "    <tr>\n",
       "      <th>1</th>\n",
       "      <td>300000000</td>\n",
       "      <td>[{\"id\": 12, \"name\": \"Adventure\"}, {\"id\": 14, \"...</td>\n",
       "      <td>http://disney.go.com/disneypictures/pirates/</td>\n",
       "      <td>285</td>\n",
       "      <td>[{\"id\": 270, \"name\": \"ocean\"}, {\"id\": 726, \"na...</td>\n",
       "      <td>en</td>\n",
       "      <td>Pirates of the Caribbean: At World's End</td>\n",
       "      <td>Captain Barbossa, long believed to be dead, ha...</td>\n",
       "      <td>139.083</td>\n",
       "      <td>[{\"name\": \"Walt Disney Pictures\", \"id\": 2}, {\"...</td>\n",
       "      <td>[{\"iso_3166_1\": \"US\", \"name\": \"United States o...</td>\n",
       "      <td>2007-05-19</td>\n",
       "      <td>961000000</td>\n",
       "      <td>169.000</td>\n",
       "      <td>[{\"iso_639_1\": \"en\", \"name\": \"English\"}]</td>\n",
       "      <td>Released</td>\n",
       "      <td>At the end of the world, the adventure begins.</td>\n",
       "      <td>Pirates of the Caribbean: At World's End</td>\n",
       "      <td>6.900</td>\n",
       "      <td>4500</td>\n",
       "    </tr>\n",
       "    <tr>\n",
       "      <th>2</th>\n",
       "      <td>245000000</td>\n",
       "      <td>[{\"id\": 28, \"name\": \"Action\"}, {\"id\": 12, \"nam...</td>\n",
       "      <td>http://www.sonypictures.com/movies/spectre/</td>\n",
       "      <td>206647</td>\n",
       "      <td>[{\"id\": 470, \"name\": \"spy\"}, {\"id\": 818, \"name...</td>\n",
       "      <td>en</td>\n",
       "      <td>Spectre</td>\n",
       "      <td>A cryptic message from Bond’s past sends him o...</td>\n",
       "      <td>107.377</td>\n",
       "      <td>[{\"name\": \"Columbia Pictures\", \"id\": 5}, {\"nam...</td>\n",
       "      <td>[{\"iso_3166_1\": \"GB\", \"name\": \"United Kingdom\"...</td>\n",
       "      <td>2015-10-26</td>\n",
       "      <td>880674609</td>\n",
       "      <td>148.000</td>\n",
       "      <td>[{\"iso_639_1\": \"fr\", \"name\": \"Fran\\u00e7ais\"},...</td>\n",
       "      <td>Released</td>\n",
       "      <td>A Plan No One Escapes</td>\n",
       "      <td>Spectre</td>\n",
       "      <td>6.300</td>\n",
       "      <td>4466</td>\n",
       "    </tr>\n",
       "    <tr>\n",
       "      <th>3</th>\n",
       "      <td>250000000</td>\n",
       "      <td>[{\"id\": 28, \"name\": \"Action\"}, {\"id\": 80, \"nam...</td>\n",
       "      <td>http://www.thedarkknightrises.com/</td>\n",
       "      <td>49026</td>\n",
       "      <td>[{\"id\": 849, \"name\": \"dc comics\"}, {\"id\": 853,...</td>\n",
       "      <td>en</td>\n",
       "      <td>The Dark Knight Rises</td>\n",
       "      <td>Following the death of District Attorney Harve...</td>\n",
       "      <td>112.313</td>\n",
       "      <td>[{\"name\": \"Legendary Pictures\", \"id\": 923}, {\"...</td>\n",
       "      <td>[{\"iso_3166_1\": \"US\", \"name\": \"United States o...</td>\n",
       "      <td>2012-07-16</td>\n",
       "      <td>1084939099</td>\n",
       "      <td>165.000</td>\n",
       "      <td>[{\"iso_639_1\": \"en\", \"name\": \"English\"}]</td>\n",
       "      <td>Released</td>\n",
       "      <td>The Legend Ends</td>\n",
       "      <td>The Dark Knight Rises</td>\n",
       "      <td>7.600</td>\n",
       "      <td>9106</td>\n",
       "    </tr>\n",
       "    <tr>\n",
       "      <th>4</th>\n",
       "      <td>260000000</td>\n",
       "      <td>[{\"id\": 28, \"name\": \"Action\"}, {\"id\": 12, \"nam...</td>\n",
       "      <td>http://movies.disney.com/john-carter</td>\n",
       "      <td>49529</td>\n",
       "      <td>[{\"id\": 818, \"name\": \"based on novel\"}, {\"id\":...</td>\n",
       "      <td>en</td>\n",
       "      <td>John Carter</td>\n",
       "      <td>John Carter is a war-weary, former military ca...</td>\n",
       "      <td>43.927</td>\n",
       "      <td>[{\"name\": \"Walt Disney Pictures\", \"id\": 2}]</td>\n",
       "      <td>[{\"iso_3166_1\": \"US\", \"name\": \"United States o...</td>\n",
       "      <td>2012-03-07</td>\n",
       "      <td>284139100</td>\n",
       "      <td>132.000</td>\n",
       "      <td>[{\"iso_639_1\": \"en\", \"name\": \"English\"}]</td>\n",
       "      <td>Released</td>\n",
       "      <td>Lost in our world, found in another.</td>\n",
       "      <td>John Carter</td>\n",
       "      <td>6.100</td>\n",
       "      <td>2124</td>\n",
       "    </tr>\n",
       "  </tbody>\n",
       "</table>\n",
       "</div>"
      ],
      "text/plain": [
       "      budget                                             genres  \\\n",
       "0  237000000  [{\"id\": 28, \"name\": \"Action\"}, {\"id\": 12, \"nam...   \n",
       "1  300000000  [{\"id\": 12, \"name\": \"Adventure\"}, {\"id\": 14, \"...   \n",
       "2  245000000  [{\"id\": 28, \"name\": \"Action\"}, {\"id\": 12, \"nam...   \n",
       "3  250000000  [{\"id\": 28, \"name\": \"Action\"}, {\"id\": 80, \"nam...   \n",
       "4  260000000  [{\"id\": 28, \"name\": \"Action\"}, {\"id\": 12, \"nam...   \n",
       "\n",
       "                                       homepage      id  \\\n",
       "0                   http://www.avatarmovie.com/   19995   \n",
       "1  http://disney.go.com/disneypictures/pirates/     285   \n",
       "2   http://www.sonypictures.com/movies/spectre/  206647   \n",
       "3            http://www.thedarkknightrises.com/   49026   \n",
       "4          http://movies.disney.com/john-carter   49529   \n",
       "\n",
       "                                            keywords original_language  \\\n",
       "0  [{\"id\": 1463, \"name\": \"culture clash\"}, {\"id\":...                en   \n",
       "1  [{\"id\": 270, \"name\": \"ocean\"}, {\"id\": 726, \"na...                en   \n",
       "2  [{\"id\": 470, \"name\": \"spy\"}, {\"id\": 818, \"name...                en   \n",
       "3  [{\"id\": 849, \"name\": \"dc comics\"}, {\"id\": 853,...                en   \n",
       "4  [{\"id\": 818, \"name\": \"based on novel\"}, {\"id\":...                en   \n",
       "\n",
       "                             original_title  \\\n",
       "0                                    Avatar   \n",
       "1  Pirates of the Caribbean: At World's End   \n",
       "2                                   Spectre   \n",
       "3                     The Dark Knight Rises   \n",
       "4                               John Carter   \n",
       "\n",
       "                                            overview  popularity  \\\n",
       "0  In the 22nd century, a paraplegic Marine is di...     150.438   \n",
       "1  Captain Barbossa, long believed to be dead, ha...     139.083   \n",
       "2  A cryptic message from Bond’s past sends him o...     107.377   \n",
       "3  Following the death of District Attorney Harve...     112.313   \n",
       "4  John Carter is a war-weary, former military ca...      43.927   \n",
       "\n",
       "                                production_companies  \\\n",
       "0  [{\"name\": \"Ingenious Film Partners\", \"id\": 289...   \n",
       "1  [{\"name\": \"Walt Disney Pictures\", \"id\": 2}, {\"...   \n",
       "2  [{\"name\": \"Columbia Pictures\", \"id\": 5}, {\"nam...   \n",
       "3  [{\"name\": \"Legendary Pictures\", \"id\": 923}, {\"...   \n",
       "4        [{\"name\": \"Walt Disney Pictures\", \"id\": 2}]   \n",
       "\n",
       "                                production_countries release_date     revenue  \\\n",
       "0  [{\"iso_3166_1\": \"US\", \"name\": \"United States o...   2009-12-10  2787965087   \n",
       "1  [{\"iso_3166_1\": \"US\", \"name\": \"United States o...   2007-05-19   961000000   \n",
       "2  [{\"iso_3166_1\": \"GB\", \"name\": \"United Kingdom\"...   2015-10-26   880674609   \n",
       "3  [{\"iso_3166_1\": \"US\", \"name\": \"United States o...   2012-07-16  1084939099   \n",
       "4  [{\"iso_3166_1\": \"US\", \"name\": \"United States o...   2012-03-07   284139100   \n",
       "\n",
       "   runtime                                   spoken_languages    status  \\\n",
       "0  162.000  [{\"iso_639_1\": \"en\", \"name\": \"English\"}, {\"iso...  Released   \n",
       "1  169.000           [{\"iso_639_1\": \"en\", \"name\": \"English\"}]  Released   \n",
       "2  148.000  [{\"iso_639_1\": \"fr\", \"name\": \"Fran\\u00e7ais\"},...  Released   \n",
       "3  165.000           [{\"iso_639_1\": \"en\", \"name\": \"English\"}]  Released   \n",
       "4  132.000           [{\"iso_639_1\": \"en\", \"name\": \"English\"}]  Released   \n",
       "\n",
       "                                          tagline  \\\n",
       "0                     Enter the World of Pandora.   \n",
       "1  At the end of the world, the adventure begins.   \n",
       "2                           A Plan No One Escapes   \n",
       "3                                 The Legend Ends   \n",
       "4            Lost in our world, found in another.   \n",
       "\n",
       "                                      title  vote_average  vote_count  \n",
       "0                                    Avatar         7.200       11800  \n",
       "1  Pirates of the Caribbean: At World's End         6.900        4500  \n",
       "2                                   Spectre         6.300        4466  \n",
       "3                     The Dark Knight Rises         7.600        9106  \n",
       "4                               John Carter         6.100        2124  "
      ]
     },
     "execution_count": 353,
     "metadata": {},
     "output_type": "execute_result"
    }
   ],
   "source": [
    "movies = pd.read_csv(\"tmdb_5000_movies.csv\") # or the appropriate path name\n",
    "movies.head() # displaying the first 5 entries of the movie data set"
   ]
  },
  {
   "cell_type": "markdown",
   "id": "ambient-england",
   "metadata": {},
   "source": [
    "Pandas has loaded all the data from heart.csv into the dataframe stored in the variable **movies**. A pandas dataframe is a 2 dimensional labeled data structure with columns, similar to a table or Excel Spreadsheet. Now that we have read our csv file into a pandas data frame, we can move on to the next step \n",
    "\n",
    "**NOTE:** We are not going to include the other data set tmdb_5000_credits.csv because actors and directors have do not have a noticeably significant effect on box office revenue\n",
    "\n",
    "Source: https://journals.sagepub.com/doi/full/10.1509/jmkg.67.4.103.18692"
   ]
  },
  {
   "cell_type": "markdown",
   "id": "blocked-calculation",
   "metadata": {},
   "source": [
    "## 3. Tidying the Data"
   ]
  },
  {
   "cell_type": "markdown",
   "id": "suspended-camel",
   "metadata": {},
   "source": [
    "Unfortunately, there are some inconsistencies in this data file. Although the first few rows do not indicate that there are missing data values, we should check to ensure there are no missing data values, at it may affect future calculations. Furthermore, some of the data elements are not the most helpful in it's current form (ex: genres should just be one word), and some columns do not contain relavant information that we need in determining how well a movie will perform (ex: homepage)"
   ]
  },
  {
   "cell_type": "markdown",
   "id": "surface-vessel",
   "metadata": {},
   "source": [
    "### 3.1. Filtering Data"
   ]
  },
  {
   "cell_type": "markdown",
   "id": "alpha-preservation",
   "metadata": {},
   "source": [
    "We will only be dealing with movies that have already been released, not rumored to be released, so we will filter out and only use released movies as movies that have not been released would not have box office revenue data"
   ]
  },
  {
   "cell_type": "code",
   "execution_count": 354,
   "id": "acquired-municipality",
   "metadata": {},
   "outputs": [],
   "source": [
    "movies = movies[movies['status'] == 'Released']\n",
    "\n",
    "movies = movies.drop(columns=['status']) # drop the status column since all the statuses are released movies"
   ]
  },
  {
   "cell_type": "markdown",
   "id": "chief-campus",
   "metadata": {},
   "source": [
    "**Note:** You can filter data like above, or you can also take advantage of the pandas.DataFrame filter() function. To read more about this, refer to the link below, which provides the syntax and examples on how to use the function\n",
    "\n",
    "https://pandas.pydata.org/docs/reference/api/pandas.DataFrame.filter.html"
   ]
  },
  {
   "cell_type": "markdown",
   "id": "sought-yukon",
   "metadata": {},
   "source": [
    "### 3.2. Unneeded Data"
   ]
  },
  {
   "cell_type": "markdown",
   "id": "electrical-family",
   "metadata": {},
   "source": [
    "There are several columns within this data set that are not relavant factors that impact box office performance.\n",
    "\n",
    "Let's first list out the columns to see what all of them are:"
   ]
  },
  {
   "cell_type": "code",
   "execution_count": 355,
   "id": "statistical-blake",
   "metadata": {},
   "outputs": [
    {
     "data": {
      "text/plain": [
       "Index(['budget', 'genres', 'homepage', 'id', 'keywords', 'original_language',\n",
       "       'original_title', 'overview', 'popularity', 'production_companies',\n",
       "       'production_countries', 'release_date', 'revenue', 'runtime',\n",
       "       'spoken_languages', 'tagline', 'title', 'vote_average', 'vote_count'],\n",
       "      dtype='object')"
      ]
     },
     "execution_count": 355,
     "metadata": {},
     "output_type": "execute_result"
    }
   ],
   "source": [
    "movies.columns"
   ]
  },
  {
   "cell_type": "markdown",
   "id": "short-argument",
   "metadata": {},
   "source": [
    "The column 'homepage' is unneeded as it is just a link to the movie webset. There are two title columns, so we will drop the 'original_title' as well as the 'id' column. The 'overview', 'tagline', and 'keywords' columns contains brief summaries of the movie, but all information from this column can be conveyed through the columns 'genres'. The 'spoken_languages' column can be covered 'original_language' column and 'vote_count' doesn't have much impact on the revenue (seems to have more impact on the credibility of the the 'vote_average')."
   ]
  },
  {
   "cell_type": "code",
   "execution_count": 356,
   "id": "straight-messenger",
   "metadata": {},
   "outputs": [],
   "source": [
    "movies = movies.drop(columns=['homepage', 'original_title', 'overview', 'spoken_languages', \n",
    "                              'tagline', 'vote_count', 'keywords', 'id'])"
   ]
  },
  {
   "cell_type": "code",
   "execution_count": 357,
   "id": "junior-german",
   "metadata": {},
   "outputs": [
    {
     "data": {
      "text/html": [
       "<div>\n",
       "<style scoped>\n",
       "    .dataframe tbody tr th:only-of-type {\n",
       "        vertical-align: middle;\n",
       "    }\n",
       "\n",
       "    .dataframe tbody tr th {\n",
       "        vertical-align: top;\n",
       "    }\n",
       "\n",
       "    .dataframe thead th {\n",
       "        text-align: right;\n",
       "    }\n",
       "</style>\n",
       "<table border=\"1\" class=\"dataframe\">\n",
       "  <thead>\n",
       "    <tr style=\"text-align: right;\">\n",
       "      <th></th>\n",
       "      <th>title</th>\n",
       "      <th>budget</th>\n",
       "      <th>revenue</th>\n",
       "      <th>vote_average</th>\n",
       "      <th>genres</th>\n",
       "      <th>original_language</th>\n",
       "      <th>popularity</th>\n",
       "      <th>production_companies</th>\n",
       "      <th>production_countries</th>\n",
       "      <th>release_date</th>\n",
       "      <th>runtime</th>\n",
       "    </tr>\n",
       "  </thead>\n",
       "  <tbody>\n",
       "    <tr>\n",
       "      <th>0</th>\n",
       "      <td>Avatar</td>\n",
       "      <td>237000000</td>\n",
       "      <td>2787965087</td>\n",
       "      <td>7.200</td>\n",
       "      <td>[{\"id\": 28, \"name\": \"Action\"}, {\"id\": 12, \"nam...</td>\n",
       "      <td>en</td>\n",
       "      <td>150.438</td>\n",
       "      <td>[{\"name\": \"Ingenious Film Partners\", \"id\": 289...</td>\n",
       "      <td>[{\"iso_3166_1\": \"US\", \"name\": \"United States o...</td>\n",
       "      <td>2009-12-10</td>\n",
       "      <td>162.000</td>\n",
       "    </tr>\n",
       "    <tr>\n",
       "      <th>1</th>\n",
       "      <td>Pirates of the Caribbean: At World's End</td>\n",
       "      <td>300000000</td>\n",
       "      <td>961000000</td>\n",
       "      <td>6.900</td>\n",
       "      <td>[{\"id\": 12, \"name\": \"Adventure\"}, {\"id\": 14, \"...</td>\n",
       "      <td>en</td>\n",
       "      <td>139.083</td>\n",
       "      <td>[{\"name\": \"Walt Disney Pictures\", \"id\": 2}, {\"...</td>\n",
       "      <td>[{\"iso_3166_1\": \"US\", \"name\": \"United States o...</td>\n",
       "      <td>2007-05-19</td>\n",
       "      <td>169.000</td>\n",
       "    </tr>\n",
       "    <tr>\n",
       "      <th>2</th>\n",
       "      <td>Spectre</td>\n",
       "      <td>245000000</td>\n",
       "      <td>880674609</td>\n",
       "      <td>6.300</td>\n",
       "      <td>[{\"id\": 28, \"name\": \"Action\"}, {\"id\": 12, \"nam...</td>\n",
       "      <td>en</td>\n",
       "      <td>107.377</td>\n",
       "      <td>[{\"name\": \"Columbia Pictures\", \"id\": 5}, {\"nam...</td>\n",
       "      <td>[{\"iso_3166_1\": \"GB\", \"name\": \"United Kingdom\"...</td>\n",
       "      <td>2015-10-26</td>\n",
       "      <td>148.000</td>\n",
       "    </tr>\n",
       "    <tr>\n",
       "      <th>3</th>\n",
       "      <td>The Dark Knight Rises</td>\n",
       "      <td>250000000</td>\n",
       "      <td>1084939099</td>\n",
       "      <td>7.600</td>\n",
       "      <td>[{\"id\": 28, \"name\": \"Action\"}, {\"id\": 80, \"nam...</td>\n",
       "      <td>en</td>\n",
       "      <td>112.313</td>\n",
       "      <td>[{\"name\": \"Legendary Pictures\", \"id\": 923}, {\"...</td>\n",
       "      <td>[{\"iso_3166_1\": \"US\", \"name\": \"United States o...</td>\n",
       "      <td>2012-07-16</td>\n",
       "      <td>165.000</td>\n",
       "    </tr>\n",
       "    <tr>\n",
       "      <th>4</th>\n",
       "      <td>John Carter</td>\n",
       "      <td>260000000</td>\n",
       "      <td>284139100</td>\n",
       "      <td>6.100</td>\n",
       "      <td>[{\"id\": 28, \"name\": \"Action\"}, {\"id\": 12, \"nam...</td>\n",
       "      <td>en</td>\n",
       "      <td>43.927</td>\n",
       "      <td>[{\"name\": \"Walt Disney Pictures\", \"id\": 2}]</td>\n",
       "      <td>[{\"iso_3166_1\": \"US\", \"name\": \"United States o...</td>\n",
       "      <td>2012-03-07</td>\n",
       "      <td>132.000</td>\n",
       "    </tr>\n",
       "  </tbody>\n",
       "</table>\n",
       "</div>"
      ],
      "text/plain": [
       "                                      title     budget     revenue  \\\n",
       "0                                    Avatar  237000000  2787965087   \n",
       "1  Pirates of the Caribbean: At World's End  300000000   961000000   \n",
       "2                                   Spectre  245000000   880674609   \n",
       "3                     The Dark Knight Rises  250000000  1084939099   \n",
       "4                               John Carter  260000000   284139100   \n",
       "\n",
       "   vote_average                                             genres  \\\n",
       "0         7.200  [{\"id\": 28, \"name\": \"Action\"}, {\"id\": 12, \"nam...   \n",
       "1         6.900  [{\"id\": 12, \"name\": \"Adventure\"}, {\"id\": 14, \"...   \n",
       "2         6.300  [{\"id\": 28, \"name\": \"Action\"}, {\"id\": 12, \"nam...   \n",
       "3         7.600  [{\"id\": 28, \"name\": \"Action\"}, {\"id\": 80, \"nam...   \n",
       "4         6.100  [{\"id\": 28, \"name\": \"Action\"}, {\"id\": 12, \"nam...   \n",
       "\n",
       "  original_language  popularity  \\\n",
       "0                en     150.438   \n",
       "1                en     139.083   \n",
       "2                en     107.377   \n",
       "3                en     112.313   \n",
       "4                en      43.927   \n",
       "\n",
       "                                production_companies  \\\n",
       "0  [{\"name\": \"Ingenious Film Partners\", \"id\": 289...   \n",
       "1  [{\"name\": \"Walt Disney Pictures\", \"id\": 2}, {\"...   \n",
       "2  [{\"name\": \"Columbia Pictures\", \"id\": 5}, {\"nam...   \n",
       "3  [{\"name\": \"Legendary Pictures\", \"id\": 923}, {\"...   \n",
       "4        [{\"name\": \"Walt Disney Pictures\", \"id\": 2}]   \n",
       "\n",
       "                                production_countries release_date  runtime  \n",
       "0  [{\"iso_3166_1\": \"US\", \"name\": \"United States o...   2009-12-10  162.000  \n",
       "1  [{\"iso_3166_1\": \"US\", \"name\": \"United States o...   2007-05-19  169.000  \n",
       "2  [{\"iso_3166_1\": \"GB\", \"name\": \"United Kingdom\"...   2015-10-26  148.000  \n",
       "3  [{\"iso_3166_1\": \"US\", \"name\": \"United States o...   2012-07-16  165.000  \n",
       "4  [{\"iso_3166_1\": \"US\", \"name\": \"United States o...   2012-03-07  132.000  "
      ]
     },
     "execution_count": 357,
     "metadata": {},
     "output_type": "execute_result"
    }
   ],
   "source": [
    "# reordering the columns \n",
    "movies = movies[['title', 'budget', 'revenue', 'vote_average', 'genres', 'original_language', 'popularity',\n",
    "                 'production_companies', 'production_countries', 'release_date', 'runtime']]\n",
    "\n",
    "movies.head()"
   ]
  },
  {
   "cell_type": "markdown",
   "id": "military-dressing",
   "metadata": {},
   "source": [
    "### 3.3. Missing Data"
   ]
  },
  {
   "cell_type": "markdown",
   "id": "alike-vault",
   "metadata": {},
   "source": [
    "It's important to ensure that this data set does not contain any missing values, as missing values can inhibit calculations done on the data later, and can also possibly introduce bias into the data set.\n",
    "\n",
    "There are several missing values in the columns genres, production_companies and production_countries denoted by the string '[ ]'. It is difficult to be able to fill in these missing values, so we will simply remove these movie entities from our data set."
   ]
  },
  {
   "cell_type": "code",
   "execution_count": 358,
   "id": "mature-original",
   "metadata": {},
   "outputs": [],
   "source": [
    "movies = movies[movies['genres'] != '[]'] # filtering out movies with missing info of genres\n",
    "movies = movies[movies['production_companies'] != '[]'] # removing movies with missing info on production companies\n",
    "movies = movies[movies['production_countries'] != '[]'] # removing movies with missing info on production countries"
   ]
  },
  {
   "cell_type": "markdown",
   "id": "printable-indicator",
   "metadata": {},
   "source": [
    "Furthermore, there is impossible that a movie can have a budget of zero, or else a movie would not be able to be made, therefore, we will also remove these movies from our data set as it it is a missing data value and hard to predict the budget of different movies. Furthermore, the chances of a movie to make a revenue of 0 is extremely rare, that indicates missing data, and as predicting the revenue of a different movies is arbitrary as well, will filter this out as well"
   ]
  },
  {
   "cell_type": "code",
   "execution_count": 359,
   "id": "hundred-yellow",
   "metadata": {},
   "outputs": [],
   "source": [
    "movies = movies[movies['budget'] > 0]\n",
    "movies = movies[movies['revenue'] > 0]"
   ]
  },
  {
   "cell_type": "markdown",
   "id": "therapeutic-given",
   "metadata": {},
   "source": [
    "We can detect missing values that are NaN use the **isna()** and **sum** function"
   ]
  },
  {
   "cell_type": "code",
   "execution_count": 360,
   "id": "active-hurricane",
   "metadata": {},
   "outputs": [
    {
     "data": {
      "text/plain": [
       "title                   0\n",
       "budget                  0\n",
       "revenue                 0\n",
       "vote_average            0\n",
       "genres                  0\n",
       "original_language       0\n",
       "popularity              0\n",
       "production_companies    0\n",
       "production_countries    0\n",
       "release_date            0\n",
       "runtime                 0\n",
       "dtype: int64"
      ]
     },
     "execution_count": 360,
     "metadata": {},
     "output_type": "execute_result"
    }
   ],
   "source": [
    "movies.isna().sum()"
   ]
  },
  {
   "cell_type": "markdown",
   "id": "naval-hours",
   "metadata": {},
   "source": [
    "Since there is only two missing data values in the runtime category, we can simply replace the null values with the average runtime, so that it will not skew the data set, using the function **fillna()**"
   ]
  },
  {
   "cell_type": "code",
   "execution_count": 361,
   "id": "civic-recording",
   "metadata": {},
   "outputs": [],
   "source": [
    "movies['runtime'] = movies['runtime'].fillna(int(movies['runtime'].mean()))"
   ]
  },
  {
   "cell_type": "markdown",
   "id": "third-burden",
   "metadata": {},
   "source": [
    "Now let's use **isna()** and **sum()** to check that we have addressed all null values"
   ]
  },
  {
   "cell_type": "code",
   "execution_count": 362,
   "id": "tamil-block",
   "metadata": {},
   "outputs": [
    {
     "data": {
      "text/plain": [
       "title                   0\n",
       "budget                  0\n",
       "revenue                 0\n",
       "vote_average            0\n",
       "genres                  0\n",
       "original_language       0\n",
       "popularity              0\n",
       "production_companies    0\n",
       "production_countries    0\n",
       "release_date            0\n",
       "runtime                 0\n",
       "dtype: int64"
      ]
     },
     "execution_count": 362,
     "metadata": {},
     "output_type": "execute_result"
    }
   ],
   "source": [
    "movies.isna().sum()"
   ]
  },
  {
   "cell_type": "markdown",
   "id": "optimum-monday",
   "metadata": {},
   "source": [
    "Since there are no na values, we are have most all missing values accounted for. We can now proceed onto the next step of data tidying. Before we do that, let's reset the row indexes so we can easily access them later without going out of bounds"
   ]
  },
  {
   "cell_type": "markdown",
   "id": "defensive-newcastle",
   "metadata": {},
   "source": [
    "**Note:** Instead of using the isna() function, we can also import the missingno library and utilize the heatmap() or matrix() function for a more visual representation of the missing null data\n",
    "\n",
    "https://towardsdatascience.com/using-the-missingno-python-library-to-identify-and-visualise-missing-data-prior-to-machine-learning-34c8c5b5f009"
   ]
  },
  {
   "cell_type": "code",
   "execution_count": 363,
   "id": "warming-chester",
   "metadata": {},
   "outputs": [],
   "source": [
    "movies = movies.reset_index(drop=True)"
   ]
  },
  {
   "cell_type": "markdown",
   "id": "honest-marble",
   "metadata": {},
   "source": [
    "### 3.4. Simplifying Data Elements\n",
    "\n",
    "Columns genres, production_companies, and production_countries have their data stored in strings that resemble json files. However, this is not the easiest to read, or to categorize. Therefore, it is better extract the key words from these string for categorization later.\n",
    "\n",
    "First, let's take a look at an element from each of these columns"
   ]
  },
  {
   "cell_type": "code",
   "execution_count": 364,
   "id": "coated-archive",
   "metadata": {},
   "outputs": [
    {
     "name": "stdout",
     "output_type": "stream",
     "text": [
      "Genre: [{\"id\": 12, \"name\": \"Adventure\"}, {\"id\": 14, \"name\": \"Fantasy\"}, {\"id\": 28, \"name\": \"Action\"}] \n",
      "\n",
      "Company: [{\"name\": \"Ingenious Film Partners\", \"id\": 289}, {\"name\": \"Twentieth Century Fox Film Corporation\", \"id\": 306}, {\"name\": \"Dune Entertainment\", \"id\": 444}, {\"name\": \"Lightstorm Entertainment\", \"id\": 574}] \n",
      "\n",
      "Country: [{\"iso_3166_1\": \"US\", \"name\": \"United States of America\"}, {\"iso_3166_1\": \"GB\", \"name\": \"United Kingdom\"}]\n"
     ]
    }
   ],
   "source": [
    "print(\"Genre:\", movies.iloc[1]['genres'], '\\n') # accessing the genre of the first element\n",
    "print(\"Company:\", movies.iloc[0]['production_companies'], '\\n') # accessing the genre of the first element\n",
    "print(\"Country:\", movies.iloc[0]['production_countries']) # accessing the genre of the first element"
   ]
  },
  {
   "cell_type": "markdown",
   "id": "generous-brave",
   "metadata": {},
   "source": [
    "**Note:** The text here is in the json file format, which might be a bit confusing to understand at first. To better understand the formatting of a json file, read about it here: https://docs.fileformat.com/web/json/"
   ]
  },
  {
   "cell_type": "markdown",
   "id": "lonely-juice",
   "metadata": {},
   "source": [
    "To simplify this data processing, we'll extract the very first element from the list, with the exmaple above, genre would be 'Action', company is 'Ingenious Film Partners' and contry is 'US'"
   ]
  },
  {
   "cell_type": "code",
   "execution_count": 365,
   "id": "further-bouquet",
   "metadata": {},
   "outputs": [
    {
     "data": {
      "text/html": [
       "<div>\n",
       "<style scoped>\n",
       "    .dataframe tbody tr th:only-of-type {\n",
       "        vertical-align: middle;\n",
       "    }\n",
       "\n",
       "    .dataframe tbody tr th {\n",
       "        vertical-align: top;\n",
       "    }\n",
       "\n",
       "    .dataframe thead th {\n",
       "        text-align: right;\n",
       "    }\n",
       "</style>\n",
       "<table border=\"1\" class=\"dataframe\">\n",
       "  <thead>\n",
       "    <tr style=\"text-align: right;\">\n",
       "      <th></th>\n",
       "      <th>0</th>\n",
       "      <th>1</th>\n",
       "    </tr>\n",
       "  </thead>\n",
       "  <tbody>\n",
       "    <tr>\n",
       "      <th>0</th>\n",
       "      <td>Ingenious Film Partners</td>\n",
       "      <td>Partners</td>\n",
       "    </tr>\n",
       "    <tr>\n",
       "      <th>1</th>\n",
       "      <td>Walt Disney Pictures</td>\n",
       "      <td>Pictures</td>\n",
       "    </tr>\n",
       "    <tr>\n",
       "      <th>2</th>\n",
       "      <td>Columbia Pictures</td>\n",
       "      <td>Pictures</td>\n",
       "    </tr>\n",
       "    <tr>\n",
       "      <th>3</th>\n",
       "      <td>Legendary Pictures</td>\n",
       "      <td>Pictures</td>\n",
       "    </tr>\n",
       "    <tr>\n",
       "      <th>4</th>\n",
       "      <td>Walt Disney Pictures</td>\n",
       "      <td>Pictures</td>\n",
       "    </tr>\n",
       "    <tr>\n",
       "      <th>...</th>\n",
       "      <td>...</td>\n",
       "      <td>...</td>\n",
       "    </tr>\n",
       "    <tr>\n",
       "      <th>3180</th>\n",
       "      <td>Miramax Films</td>\n",
       "      <td>Films</td>\n",
       "    </tr>\n",
       "    <tr>\n",
       "      <th>3181</th>\n",
       "      <td>Dreamland Productions</td>\n",
       "      <td>Productions</td>\n",
       "    </tr>\n",
       "    <tr>\n",
       "      <th>3182</th>\n",
       "      <td>Daiei Studios</td>\n",
       "      <td>Studios</td>\n",
       "    </tr>\n",
       "    <tr>\n",
       "      <th>3183</th>\n",
       "      <td>Thinkfilm</td>\n",
       "      <td>Thinkfilm</td>\n",
       "    </tr>\n",
       "    <tr>\n",
       "      <th>3184</th>\n",
       "      <td>Columbia Pictures</td>\n",
       "      <td>Pictures</td>\n",
       "    </tr>\n",
       "  </tbody>\n",
       "</table>\n",
       "<p>3185 rows × 2 columns</p>\n",
       "</div>"
      ],
      "text/plain": [
       "                            0            1\n",
       "0     Ingenious Film Partners     Partners\n",
       "1        Walt Disney Pictures     Pictures\n",
       "2           Columbia Pictures     Pictures\n",
       "3          Legendary Pictures     Pictures\n",
       "4        Walt Disney Pictures     Pictures\n",
       "...                       ...          ...\n",
       "3180            Miramax Films        Films\n",
       "3181    Dreamland Productions  Productions\n",
       "3182            Daiei Studios      Studios\n",
       "3183                Thinkfilm    Thinkfilm\n",
       "3184        Columbia Pictures     Pictures\n",
       "\n",
       "[3185 rows x 2 columns]"
      ]
     },
     "execution_count": 365,
     "metadata": {},
     "output_type": "execute_result"
    }
   ],
   "source": [
    "movies['production_companies'].str.extract(r'\\[\\{\"name\": \"((\\w+ *)*).*')"
   ]
  },
  {
   "cell_type": "code",
   "execution_count": 366,
   "id": "virtual-bearing",
   "metadata": {},
   "outputs": [],
   "source": [
    "movies['genres'] = movies['genres'].str.extract(r'\\[\\{\"id\": \\d+, \"name\": \"(\\w+).*')\n",
    "movies['production_countries'] = movies['production_countries'].str.extract(r'\\[\\{\"iso_3166_1\": \"(\\w+).*')\n",
    "\n",
    "# we need to account for the fact the production company can have multiple words in the name\n",
    "reg = movies['production_companies'].str.extract(r'\\[\\{\"name\": \"((\\w+ *)*).*')\n",
    "\n",
    "# reg can have multiple elements\n",
    "movies['production_companies'] = reg[0]"
   ]
  },
  {
   "cell_type": "markdown",
   "id": "planned-table",
   "metadata": {},
   "source": [
    "### 3.5. Changing Data Types"
   ]
  },
  {
   "cell_type": "markdown",
   "id": "sustained-electronics",
   "metadata": {},
   "source": [
    "The release_date column is a string right now, but it would be more helpful it was a date time object. Furthermore, it would probably be more helpful to only extract the month, as movies seem to do better when they are released either in the summer months or near the end of the year, rather than at the beginning of the year"
   ]
  },
  {
   "cell_type": "code",
   "execution_count": 367,
   "id": "controlled-submission",
   "metadata": {},
   "outputs": [],
   "source": [
    "movies['release_date']= pd.to_datetime(movies['release_date']) # converting to date time object\n",
    "movies['release_month'] = movies['release_date'].dt.month # extracting release month and putting into new column\n",
    "movies = movies.drop(columns=['release_date']) # deleteing release_date column"
   ]
  },
  {
   "cell_type": "markdown",
   "id": "documented-cardiff",
   "metadata": {},
   "source": [
    "### 3.6. Creating New Data Column"
   ]
  },
  {
   "cell_type": "markdown",
   "id": "curious-austin",
   "metadata": {},
   "source": [
    "We don't have a column for profit. A movie can generate a lot of revenue, but if it does not break even, then it is essentially less profitable than a movie that generates less revenue but exceeds it's budget. \n",
    "\n",
    "The profit of a movie = revenue - budget."
   ]
  },
  {
   "cell_type": "code",
   "execution_count": 368,
   "id": "practical-catalog",
   "metadata": {},
   "outputs": [],
   "source": [
    "movies['profit'] = movies['revenue'] - movies['budget'] # storing in new 'profit' column"
   ]
  },
  {
   "cell_type": "markdown",
   "id": "minute-excess",
   "metadata": {},
   "source": [
    "Displaying final result"
   ]
  },
  {
   "cell_type": "code",
   "execution_count": 369,
   "id": "systematic-twelve",
   "metadata": {},
   "outputs": [
    {
     "data": {
      "text/html": [
       "<div>\n",
       "<style scoped>\n",
       "    .dataframe tbody tr th:only-of-type {\n",
       "        vertical-align: middle;\n",
       "    }\n",
       "\n",
       "    .dataframe tbody tr th {\n",
       "        vertical-align: top;\n",
       "    }\n",
       "\n",
       "    .dataframe thead th {\n",
       "        text-align: right;\n",
       "    }\n",
       "</style>\n",
       "<table border=\"1\" class=\"dataframe\">\n",
       "  <thead>\n",
       "    <tr style=\"text-align: right;\">\n",
       "      <th></th>\n",
       "      <th>title</th>\n",
       "      <th>budget</th>\n",
       "      <th>revenue</th>\n",
       "      <th>vote_average</th>\n",
       "      <th>genres</th>\n",
       "      <th>original_language</th>\n",
       "      <th>popularity</th>\n",
       "      <th>production_companies</th>\n",
       "      <th>production_countries</th>\n",
       "      <th>runtime</th>\n",
       "      <th>release_month</th>\n",
       "      <th>profit</th>\n",
       "    </tr>\n",
       "  </thead>\n",
       "  <tbody>\n",
       "    <tr>\n",
       "      <th>0</th>\n",
       "      <td>Avatar</td>\n",
       "      <td>237000000</td>\n",
       "      <td>2787965087</td>\n",
       "      <td>7.200</td>\n",
       "      <td>Action</td>\n",
       "      <td>en</td>\n",
       "      <td>150.438</td>\n",
       "      <td>Ingenious Film Partners</td>\n",
       "      <td>US</td>\n",
       "      <td>162.000</td>\n",
       "      <td>12</td>\n",
       "      <td>2550965087</td>\n",
       "    </tr>\n",
       "    <tr>\n",
       "      <th>1</th>\n",
       "      <td>Pirates of the Caribbean: At World's End</td>\n",
       "      <td>300000000</td>\n",
       "      <td>961000000</td>\n",
       "      <td>6.900</td>\n",
       "      <td>Adventure</td>\n",
       "      <td>en</td>\n",
       "      <td>139.083</td>\n",
       "      <td>Walt Disney Pictures</td>\n",
       "      <td>US</td>\n",
       "      <td>169.000</td>\n",
       "      <td>5</td>\n",
       "      <td>661000000</td>\n",
       "    </tr>\n",
       "    <tr>\n",
       "      <th>2</th>\n",
       "      <td>Spectre</td>\n",
       "      <td>245000000</td>\n",
       "      <td>880674609</td>\n",
       "      <td>6.300</td>\n",
       "      <td>Action</td>\n",
       "      <td>en</td>\n",
       "      <td>107.377</td>\n",
       "      <td>Columbia Pictures</td>\n",
       "      <td>GB</td>\n",
       "      <td>148.000</td>\n",
       "      <td>10</td>\n",
       "      <td>635674609</td>\n",
       "    </tr>\n",
       "    <tr>\n",
       "      <th>3</th>\n",
       "      <td>The Dark Knight Rises</td>\n",
       "      <td>250000000</td>\n",
       "      <td>1084939099</td>\n",
       "      <td>7.600</td>\n",
       "      <td>Action</td>\n",
       "      <td>en</td>\n",
       "      <td>112.313</td>\n",
       "      <td>Legendary Pictures</td>\n",
       "      <td>US</td>\n",
       "      <td>165.000</td>\n",
       "      <td>7</td>\n",
       "      <td>834939099</td>\n",
       "    </tr>\n",
       "    <tr>\n",
       "      <th>4</th>\n",
       "      <td>John Carter</td>\n",
       "      <td>260000000</td>\n",
       "      <td>284139100</td>\n",
       "      <td>6.100</td>\n",
       "      <td>Action</td>\n",
       "      <td>en</td>\n",
       "      <td>43.927</td>\n",
       "      <td>Walt Disney Pictures</td>\n",
       "      <td>US</td>\n",
       "      <td>132.000</td>\n",
       "      <td>3</td>\n",
       "      <td>24139100</td>\n",
       "    </tr>\n",
       "    <tr>\n",
       "      <th>...</th>\n",
       "      <td>...</td>\n",
       "      <td>...</td>\n",
       "      <td>...</td>\n",
       "      <td>...</td>\n",
       "      <td>...</td>\n",
       "      <td>...</td>\n",
       "      <td>...</td>\n",
       "      <td>...</td>\n",
       "      <td>...</td>\n",
       "      <td>...</td>\n",
       "      <td>...</td>\n",
       "      <td>...</td>\n",
       "    </tr>\n",
       "    <tr>\n",
       "      <th>3180</th>\n",
       "      <td>Clerks</td>\n",
       "      <td>27000</td>\n",
       "      <td>3151130</td>\n",
       "      <td>7.400</td>\n",
       "      <td>Comedy</td>\n",
       "      <td>en</td>\n",
       "      <td>19.749</td>\n",
       "      <td>Miramax Films</td>\n",
       "      <td>US</td>\n",
       "      <td>92.000</td>\n",
       "      <td>9</td>\n",
       "      <td>3124130</td>\n",
       "    </tr>\n",
       "    <tr>\n",
       "      <th>3181</th>\n",
       "      <td>Pink Flamingos</td>\n",
       "      <td>12000</td>\n",
       "      <td>6000000</td>\n",
       "      <td>6.200</td>\n",
       "      <td>Horror</td>\n",
       "      <td>en</td>\n",
       "      <td>4.554</td>\n",
       "      <td>Dreamland Productions</td>\n",
       "      <td>US</td>\n",
       "      <td>93.000</td>\n",
       "      <td>3</td>\n",
       "      <td>5988000</td>\n",
       "    </tr>\n",
       "    <tr>\n",
       "      <th>3182</th>\n",
       "      <td>Cure</td>\n",
       "      <td>20000</td>\n",
       "      <td>99000</td>\n",
       "      <td>7.400</td>\n",
       "      <td>Crime</td>\n",
       "      <td>ja</td>\n",
       "      <td>0.212</td>\n",
       "      <td>Daiei Studios</td>\n",
       "      <td>JP</td>\n",
       "      <td>111.000</td>\n",
       "      <td>11</td>\n",
       "      <td>79000</td>\n",
       "    </tr>\n",
       "    <tr>\n",
       "      <th>3183</th>\n",
       "      <td>Primer</td>\n",
       "      <td>7000</td>\n",
       "      <td>424760</td>\n",
       "      <td>6.900</td>\n",
       "      <td>Science</td>\n",
       "      <td>en</td>\n",
       "      <td>23.308</td>\n",
       "      <td>Thinkfilm</td>\n",
       "      <td>US</td>\n",
       "      <td>77.000</td>\n",
       "      <td>10</td>\n",
       "      <td>417760</td>\n",
       "    </tr>\n",
       "    <tr>\n",
       "      <th>3184</th>\n",
       "      <td>El Mariachi</td>\n",
       "      <td>220000</td>\n",
       "      <td>2040920</td>\n",
       "      <td>6.600</td>\n",
       "      <td>Action</td>\n",
       "      <td>es</td>\n",
       "      <td>14.270</td>\n",
       "      <td>Columbia Pictures</td>\n",
       "      <td>MX</td>\n",
       "      <td>81.000</td>\n",
       "      <td>9</td>\n",
       "      <td>1820920</td>\n",
       "    </tr>\n",
       "  </tbody>\n",
       "</table>\n",
       "<p>3185 rows × 12 columns</p>\n",
       "</div>"
      ],
      "text/plain": [
       "                                         title     budget     revenue  \\\n",
       "0                                       Avatar  237000000  2787965087   \n",
       "1     Pirates of the Caribbean: At World's End  300000000   961000000   \n",
       "2                                      Spectre  245000000   880674609   \n",
       "3                        The Dark Knight Rises  250000000  1084939099   \n",
       "4                                  John Carter  260000000   284139100   \n",
       "...                                        ...        ...         ...   \n",
       "3180                                    Clerks      27000     3151130   \n",
       "3181                            Pink Flamingos      12000     6000000   \n",
       "3182                                      Cure      20000       99000   \n",
       "3183                                    Primer       7000      424760   \n",
       "3184                               El Mariachi     220000     2040920   \n",
       "\n",
       "      vote_average     genres original_language  popularity  \\\n",
       "0            7.200     Action                en     150.438   \n",
       "1            6.900  Adventure                en     139.083   \n",
       "2            6.300     Action                en     107.377   \n",
       "3            7.600     Action                en     112.313   \n",
       "4            6.100     Action                en      43.927   \n",
       "...            ...        ...               ...         ...   \n",
       "3180         7.400     Comedy                en      19.749   \n",
       "3181         6.200     Horror                en       4.554   \n",
       "3182         7.400      Crime                ja       0.212   \n",
       "3183         6.900    Science                en      23.308   \n",
       "3184         6.600     Action                es      14.270   \n",
       "\n",
       "         production_companies production_countries  runtime  release_month  \\\n",
       "0     Ingenious Film Partners                   US  162.000             12   \n",
       "1        Walt Disney Pictures                   US  169.000              5   \n",
       "2           Columbia Pictures                   GB  148.000             10   \n",
       "3          Legendary Pictures                   US  165.000              7   \n",
       "4        Walt Disney Pictures                   US  132.000              3   \n",
       "...                       ...                  ...      ...            ...   \n",
       "3180            Miramax Films                   US   92.000              9   \n",
       "3181    Dreamland Productions                   US   93.000              3   \n",
       "3182            Daiei Studios                   JP  111.000             11   \n",
       "3183                Thinkfilm                   US   77.000             10   \n",
       "3184        Columbia Pictures                   MX   81.000              9   \n",
       "\n",
       "          profit  \n",
       "0     2550965087  \n",
       "1      661000000  \n",
       "2      635674609  \n",
       "3      834939099  \n",
       "4       24139100  \n",
       "...          ...  \n",
       "3180     3124130  \n",
       "3181     5988000  \n",
       "3182       79000  \n",
       "3183      417760  \n",
       "3184     1820920  \n",
       "\n",
       "[3185 rows x 12 columns]"
      ]
     },
     "execution_count": 369,
     "metadata": {},
     "output_type": "execute_result"
    }
   ],
   "source": [
    "movies"
   ]
  },
  {
   "cell_type": "markdown",
   "id": "suffering-navigator",
   "metadata": {},
   "source": [
    "**Note:** This data set pretty clean, other data sets would have more to do in this data tidying proccess, such as dealing with missing values, typos, etc."
   ]
  },
  {
   "cell_type": "markdown",
   "id": "logical-jacksonville",
   "metadata": {},
   "source": [
    "## 4. Exploratory Data Analysis and Visualization"
   ]
  },
  {
   "cell_type": "markdown",
   "id": "warming-yukon",
   "metadata": {},
   "source": [
    "Exploratory Data Analysis (EDA) is the initial process of combing through a dataset to try and find patterns and make hypotheses that you might have about the data. EDA is important because it gives us more context about the data being handled and may give us more ideas about what we can do with the data in the future."
   ]
  },
  {
   "cell_type": "markdown",
   "id": "chemical-script",
   "metadata": {},
   "source": [
    "### 4.1. Numerical Data"
   ]
  },
  {
   "cell_type": "markdown",
   "id": "social-concentrate",
   "metadata": {},
   "source": [
    "The matrix below is a Spearman correlation matrix that showcases the correlation values between each quantative variable included in the dataset, that is the budget, revenue, vote_average, popularity, and runtime. In the matrix below, the darker boxes represent variables that are highly correlated with each other. The lighter blue and green boxes are less correlated variables. The lighter yellow/cream colored boxes represent variables that are negatively correlated. We should examine which variables are the most correlated with revenue.\n",
    "\n",
    "**Note:** To understand a litte more in depth about how Spearman's correlation is calculated, as well as the different ways to customize the your own matrix, consult the links below\n",
    "\n",
    "https://statistics.laerd.com/statistical-guides/spearmans-rank-order-correlation-statistical-guide.php\n",
    "\n",
    "Spearman's matrix throught pandas: https://pandas.pydata.org/docs/reference/api/pandas.DataFrame.corr.html\n",
    "\n",
    "Heatmaps (for the matrix visualization): https://seaborn.pydata.org/generated/seaborn.heatmap.html"
   ]
  },
  {
   "cell_type": "code",
   "execution_count": 370,
   "id": "retired-collection",
   "metadata": {},
   "outputs": [
    {
     "data": {
      "text/plain": [
       "[Text(0, 0.5, 'budget'),\n",
       " Text(0, 1.5, 'revenue'),\n",
       " Text(0, 2.5, 'vote_average'),\n",
       " Text(0, 3.5, 'popularity'),\n",
       " Text(0, 4.5, 'runtime'),\n",
       " Text(0, 5.5, 'release_month'),\n",
       " Text(0, 6.5, 'profit')]"
      ]
     },
     "execution_count": 370,
     "metadata": {},
     "output_type": "execute_result"
    },
    {
     "data": {
      "image/png": "[encoded data removed]",
      "text/plain": [
       "<Figure size 1440x792 with 2 Axes>"
      ]
     },
     "metadata": {
      "needs_background": "light"
     },
     "output_type": "display_data"
    }
   ],
   "source": [
    "#Correlation Matrix\n",
    "plt.subplots(figsize = (20,11))\n",
    "g = sns.heatmap(movies.corr(\"spearman\"), annot = True, cmap = \"YlGnBu\", fmt = '.1g', linewidths=.5,)\n",
    "\n",
    "g.set_title(\"Correlation Matrix between Columns\")\n",
    "g.set_xticklabels(g.get_xticklabels(), rotation=45, horizontalalignment='right')\n",
    "g.set_yticklabels(g.get_yticklabels(), rotation=45, horizontalalignment='right')"
   ]
  },
  {
   "cell_type": "markdown",
   "id": "romantic-announcement",
   "metadata": {},
   "source": [
    "The varibales budget and revenue are the most positively correlated with profit (revenue is a given), while the vote average, budget and runtime have a lesser correlation. The vote-average and popularity as well as the runtime and vote-average appear to have some correlation, therefore, we should consider these when creating our prediction model.\n",
    "\n",
    "**Note:** Ignore the release_month row, as that should be more of a categorical variable that we will explore more in depth below"
   ]
  },
  {
   "cell_type": "markdown",
   "id": "constant-barcelona",
   "metadata": {},
   "source": [
    "### 4.2. Categorical Data"
   ]
  },
  {
   "cell_type": "markdown",
   "id": "moved-fourth",
   "metadata": {},
   "source": [
    "The variables genres, original language, production companies, production country and release month all categorical data values, therefore, the correlation matrix is not useful in that respect. \n",
    "\n",
    "For each variable, we will emply these following steps:\n",
    "1. Group by the variable and determine the categorical variable\n",
    "2. Create a distribution subplot to understand the distribution of each category to better compare these\n",
    "\n",
    "To learn more about violin plots and how to create/edit them in python, check out the following links below:\n",
    "\n",
    "What are violin plots: https://mode.com/blog/violin-plot-examples/\n",
    "\n",
    "How to create/edit plots: https://stackabuse.com/matplotlib-violin-plot-tutorial-and-examples/"
   ]
  },
  {
   "cell_type": "markdown",
   "id": "industrial-eleven",
   "metadata": {},
   "source": [
    "**Genres**"
   ]
  },
  {
   "cell_type": "markdown",
   "id": "reliable-people",
   "metadata": {},
   "source": [
    "Setting up for the violin plot by grouping the data in lists based off of genre"
   ]
  },
  {
   "cell_type": "code",
   "execution_count": 371,
   "id": "grateful-print",
   "metadata": {},
   "outputs": [],
   "source": [
    "# create an 2-D np array where each row represents a genre\n",
    "rev_per_genre = list() # each year has 142 entries\n",
    "\n",
    "# looping through data grouped by genre\n",
    "for name, group in movies.groupby(movies.genres):\n",
    "    lst = list(group['profit']) # list of the different revenues per genre\n",
    "    rev_per_genre.append(np.array(lst))\n",
    "\n",
    "# Creating the x-axis of genres\n",
    "genre_list = movies.genres.unique().tolist()\n",
    "genre_list.insert(0, \"\") # inserting this for padding on the graph"
   ]
  },
  {
   "cell_type": "markdown",
   "id": "together-determination",
   "metadata": {},
   "source": [
    "Graphing the violin plot"
   ]
  },
  {
   "cell_type": "code",
   "execution_count": 372,
   "id": "behavioral-chapter",
   "metadata": {},
   "outputs": [
    {
     "data": {
      "text/plain": [
       "Text(0.5, 1.0, 'Revenue vs Genre')"
      ]
     },
     "execution_count": 372,
     "metadata": {},
     "output_type": "execute_result"
    },
    {
     "data": {
      "image/png": "[encoded data removed]",
      "text/plain": [
       "<Figure size 720x360 with 1 Axes>"
      ]
     },
     "metadata": {
      "needs_background": "light"
     },
     "output_type": "display_data"
    }
   ],
   "source": [
    "fig, ax = plt.subplots(figsize=(10,5))\n",
    "plt.xticks(np.arange(0, 20)) \n",
    "num = range(1,20) # temp numerical x axis tic marks\n",
    "\n",
    "# graphing the life expectancy vs years\n",
    "ax.violinplot(rev_per_genre, num, widths=1,showmeans=True)\n",
    "\n",
    "# Renaming the tick marks\n",
    "ax.set_xticklabels(genre_list, rotation = (90))\n",
    "\n",
    "# adjusting labels\n",
    "ax.set_xlabel(\"Genre\")\n",
    "ax.set_ylabel(\"Box Office Profit (billions of dollars)\")\n",
    "ax.set_title(\"Revenue vs Genre\")"
   ]
  },
  {
   "cell_type": "markdown",
   "id": "dying-browse",
   "metadata": {},
   "source": [
    "Action and Horror seem to have the highest returns, but Action, Adventure, Fantast Family and Horror seems to have the highest mean returns. Although Action can have high returns, there also seems to be many instances where there are negative returns. With all the genres, they are all heavily skewed to the right, with most movies not turning much of a profit but a few being extrememly successful."
   ]
  },
  {
   "cell_type": "markdown",
   "id": "iraqi-cover",
   "metadata": {},
   "source": [
    "**Original Language**"
   ]
  },
  {
   "cell_type": "markdown",
   "id": "unauthorized-boutique",
   "metadata": {},
   "source": [
    "Setting up for the violin plot by grouping the data in lists based off of original language"
   ]
  },
  {
   "cell_type": "code",
   "execution_count": 373,
   "id": "sudden-standing",
   "metadata": {},
   "outputs": [],
   "source": [
    "# create an 2-D np array where each row represents a different language\n",
    "rev_per_lang = list() # each year has 142 entries\n",
    "\n",
    "# looping through data grouped by language\n",
    "for name, group in movies.groupby(movies.original_language):\n",
    "    lst = list(group['profit']) # list of the different revenues per language\n",
    "    rev_per_lang.append(np.array(lst))\n",
    "\n",
    "# Creating the x-axis of langauages\n",
    "lang_lst = movies.original_language.unique().tolist()\n",
    "lang_lst.insert(0, \"\")"
   ]
  },
  {
   "cell_type": "markdown",
   "id": "dynamic-johnston",
   "metadata": {},
   "source": [
    "Graphing the Violin plot"
   ]
  },
  {
   "cell_type": "code",
   "execution_count": 374,
   "id": "acute-operations",
   "metadata": {},
   "outputs": [
    {
     "data": {
      "text/plain": [
       "Text(0.5, 1.0, 'Revenue vs Original Language')"
      ]
     },
     "execution_count": 374,
     "metadata": {},
     "output_type": "execute_result"
    },
    {
     "data": {
      "image/png": "[encoded data removed]",
      "text/plain": [
       "<Figure size 720x504 with 1 Axes>"
      ]
     },
     "metadata": {
      "needs_background": "light"
     },
     "output_type": "display_data"
    }
   ],
   "source": [
    "fig, ax = plt.subplots(figsize=(10,7))\n",
    "plt.xticks(np.arange(0, len(lang_lst)))\n",
    "num = range(1,len(lang_lst)) # temp numerical x axis tic marks\n",
    "\n",
    "# graphing the life expectancy vs years\n",
    "ax.violinplot(rev_per_lang, num, widths=1,showmeans=True)\n",
    "\n",
    "# Renaming the tick marks\n",
    "ax.set_xticklabels(lang_lst, rotation = (90))\n",
    "\n",
    "# adjusting labels\n",
    "ax.set_xlabel(\"Original Language\")\n",
    "ax.set_ylabel(\"Box Office Profit (billions of dollars)\")\n",
    "ax.set_title(\"Revenue vs Original Language\")"
   ]
  },
  {
   "cell_type": "markdown",
   "id": "matched-banking",
   "metadata": {},
   "source": [
    "It doesn't look that original langauge has any significant effect on the box office, as seen all the averages seem to be around the same for all different types of languages. Therefore, original languages is an extraneous variable that can not be factored into the prediction model"
   ]
  },
  {
   "cell_type": "markdown",
   "id": "unsigned-separate",
   "metadata": {},
   "source": [
    "**Production Companies**"
   ]
  },
  {
   "cell_type": "code",
   "execution_count": 375,
   "id": "comic-honduras",
   "metadata": {
    "scrolled": true
   },
   "outputs": [
    {
     "name": "stdout",
     "output_type": "stream",
     "text": [
      "Number of Production Companies: 744\n"
     ]
    }
   ],
   "source": [
    "print(\"Number of Production Companies:\", len(movies['production_companies'].unique()))"
   ]
  },
  {
   "cell_type": "markdown",
   "id": "italic-filling",
   "metadata": {},
   "source": [
    "Since there are so many different production companies, a violin plot would be unhelpful just because of the sheer amount of data being displayed. Therefore, let's just find the total and average revenue of each company to see which companies are the most profitable.\n",
    "\n",
    "The total revenue indicates which companies are able to generate the most overall revenue"
   ]
  },
  {
   "cell_type": "code",
   "execution_count": 376,
   "id": "moved-beach",
   "metadata": {},
   "outputs": [
    {
     "data": {
      "text/html": [
       "<div>\n",
       "<style scoped>\n",
       "    .dataframe tbody tr th:only-of-type {\n",
       "        vertical-align: middle;\n",
       "    }\n",
       "\n",
       "    .dataframe tbody tr th {\n",
       "        vertical-align: top;\n",
       "    }\n",
       "\n",
       "    .dataframe thead th {\n",
       "        text-align: right;\n",
       "    }\n",
       "</style>\n",
       "<table border=\"1\" class=\"dataframe\">\n",
       "  <thead>\n",
       "    <tr style=\"text-align: right;\">\n",
       "      <th></th>\n",
       "      <th>production_companies</th>\n",
       "      <th>profit</th>\n",
       "    </tr>\n",
       "  </thead>\n",
       "  <tbody>\n",
       "    <tr>\n",
       "      <th>500</th>\n",
       "      <td>Paramount Pictures</td>\n",
       "      <td>26044128995</td>\n",
       "    </tr>\n",
       "    <tr>\n",
       "      <th>690</th>\n",
       "      <td>Universal Pictures</td>\n",
       "      <td>24621286498</td>\n",
       "    </tr>\n",
       "    <tr>\n",
       "      <th>709</th>\n",
       "      <td>Walt Disney Pictures</td>\n",
       "      <td>19286420012</td>\n",
       "    </tr>\n",
       "    <tr>\n",
       "      <th>143</th>\n",
       "      <td>Columbia Pictures</td>\n",
       "      <td>17729819796</td>\n",
       "    </tr>\n",
       "    <tr>\n",
       "      <th>681</th>\n",
       "      <td>Twentieth Century Fox Film Corporation</td>\n",
       "      <td>16266904544</td>\n",
       "    </tr>\n",
       "    <tr>\n",
       "      <th>...</th>\n",
       "      <td>...</td>\n",
       "      <td>...</td>\n",
       "    </tr>\n",
       "    <tr>\n",
       "      <th>657</th>\n",
       "      <td>Threshold Entertainment</td>\n",
       "      <td>-64926294</td>\n",
       "    </tr>\n",
       "    <tr>\n",
       "      <th>532</th>\n",
       "      <td>Punch Productions</td>\n",
       "      <td>-72888950</td>\n",
       "    </tr>\n",
       "    <tr>\n",
       "      <th>701</th>\n",
       "      <td>Vnesheconombank</td>\n",
       "      <td>-73821041</td>\n",
       "    </tr>\n",
       "    <tr>\n",
       "      <th>380</th>\n",
       "      <td>Le Studio Canal</td>\n",
       "      <td>-87982678</td>\n",
       "    </tr>\n",
       "    <tr>\n",
       "      <th>217</th>\n",
       "      <td>Epsilon Motion Pictures</td>\n",
       "      <td>-223730100</td>\n",
       "    </tr>\n",
       "  </tbody>\n",
       "</table>\n",
       "<p>744 rows × 2 columns</p>\n",
       "</div>"
      ],
      "text/plain": [
       "                       production_companies       profit\n",
       "500                      Paramount Pictures  26044128995\n",
       "690                      Universal Pictures  24621286498\n",
       "709                    Walt Disney Pictures  19286420012\n",
       "143                       Columbia Pictures  17729819796\n",
       "681  Twentieth Century Fox Film Corporation  16266904544\n",
       "..                                      ...          ...\n",
       "657                 Threshold Entertainment    -64926294\n",
       "532                       Punch Productions    -72888950\n",
       "701                         Vnesheconombank    -73821041\n",
       "380                         Le Studio Canal    -87982678\n",
       "217                 Epsilon Motion Pictures   -223730100\n",
       "\n",
       "[744 rows x 2 columns]"
      ]
     },
     "execution_count": 376,
     "metadata": {},
     "output_type": "execute_result"
    }
   ],
   "source": [
    "total = movies.groupby(['production_companies'], as_index=False)['profit'].sum().sort_values('profit', ascending=False)\n",
    "total"
   ]
  },
  {
   "cell_type": "markdown",
   "id": "australian-better",
   "metadata": {},
   "source": [
    "Graphing the top profit earning companies "
   ]
  },
  {
   "cell_type": "code",
   "execution_count": 377,
   "id": "legislative-flower",
   "metadata": {},
   "outputs": [
    {
     "data": {
      "image/png": "[encoded data removed]",
      "text/plain": [
       "<Figure size 432x288 with 1 Axes>"
      ]
     },
     "metadata": {
      "needs_background": "light"
     },
     "output_type": "display_data"
    }
   ],
   "source": [
    "ax1 = total.head().plot.bar(x='production_companies', y='profit', rot=90)"
   ]
  },
  {
   "cell_type": "markdown",
   "id": "proud-engine",
   "metadata": {},
   "source": [
    "The range of box office profits has a lot of variation, with the highest total profit being about \\\\$26 billion and the lowest being a negative profit of about $-2.2 billion. Based off of this data, the top total revenue earners are Paramount, Universal, Walt Disney, Columbia and Twentieth Century Fox. However, even though they earn the most revenue, do they consistently earn revenue for all their movies, or just because they produce more movies than the lower earners? \n",
    "\n",
    "Let's look at the average earners."
   ]
  },
  {
   "cell_type": "code",
   "execution_count": 378,
   "id": "automatic-kentucky",
   "metadata": {},
   "outputs": [
    {
     "data": {
      "text/html": [
       "<div>\n",
       "<style scoped>\n",
       "    .dataframe tbody tr th:only-of-type {\n",
       "        vertical-align: middle;\n",
       "    }\n",
       "\n",
       "    .dataframe tbody tr th {\n",
       "        vertical-align: top;\n",
       "    }\n",
       "\n",
       "    .dataframe thead th {\n",
       "        text-align: right;\n",
       "    }\n",
       "</style>\n",
       "<table border=\"1\" class=\"dataframe\">\n",
       "  <thead>\n",
       "    <tr style=\"text-align: right;\">\n",
       "      <th></th>\n",
       "      <th>production_companies</th>\n",
       "      <th>profit</th>\n",
       "    </tr>\n",
       "  </thead>\n",
       "  <tbody>\n",
       "    <tr>\n",
       "      <th>506</th>\n",
       "      <td>Patalex IV Productions Limited</td>\n",
       "      <td>745921036.000</td>\n",
       "    </tr>\n",
       "    <tr>\n",
       "      <th>1</th>\n",
       "      <td>1492 Pictures</td>\n",
       "      <td>593136834.250</td>\n",
       "    </tr>\n",
       "    <tr>\n",
       "      <th>420</th>\n",
       "      <td>Marvel Studios</td>\n",
       "      <td>555182620.100</td>\n",
       "    </tr>\n",
       "    <tr>\n",
       "      <th>515</th>\n",
       "      <td>Pixar Animation Studios</td>\n",
       "      <td>539338880.000</td>\n",
       "    </tr>\n",
       "    <tr>\n",
       "      <th>727</th>\n",
       "      <td>WingNut Films</td>\n",
       "      <td>538646243.100</td>\n",
       "    </tr>\n",
       "    <tr>\n",
       "      <th>...</th>\n",
       "      <td>...</td>\n",
       "      <td>...</td>\n",
       "    </tr>\n",
       "    <tr>\n",
       "      <th>525</th>\n",
       "      <td>Prana Animation Studios</td>\n",
       "      <td>-51337973.000</td>\n",
       "    </tr>\n",
       "    <tr>\n",
       "      <th>152</th>\n",
       "      <td>Conundrum Entertainment</td>\n",
       "      <td>-61403089.000</td>\n",
       "    </tr>\n",
       "    <tr>\n",
       "      <th>657</th>\n",
       "      <td>Threshold Entertainment</td>\n",
       "      <td>-64926294.000</td>\n",
       "    </tr>\n",
       "    <tr>\n",
       "      <th>701</th>\n",
       "      <td>Vnesheconombank</td>\n",
       "      <td>-73821041.000</td>\n",
       "    </tr>\n",
       "    <tr>\n",
       "      <th>380</th>\n",
       "      <td>Le Studio Canal</td>\n",
       "      <td>-87982678.000</td>\n",
       "    </tr>\n",
       "  </tbody>\n",
       "</table>\n",
       "<p>744 rows × 2 columns</p>\n",
       "</div>"
      ],
      "text/plain": [
       "               production_companies        profit\n",
       "506  Patalex IV Productions Limited 745921036.000\n",
       "1                     1492 Pictures 593136834.250\n",
       "420                  Marvel Studios 555182620.100\n",
       "515         Pixar Animation Studios 539338880.000\n",
       "727                   WingNut Films 538646243.100\n",
       "..                              ...           ...\n",
       "525         Prana Animation Studios -51337973.000\n",
       "152         Conundrum Entertainment -61403089.000\n",
       "657         Threshold Entertainment -64926294.000\n",
       "701                 Vnesheconombank -73821041.000\n",
       "380                 Le Studio Canal -87982678.000\n",
       "\n",
       "[744 rows x 2 columns]"
      ]
     },
     "execution_count": 378,
     "metadata": {},
     "output_type": "execute_result"
    }
   ],
   "source": [
    "avg = movies.groupby(['production_companies'], as_index=False)['profit'].mean().sort_values('profit', ascending=False)\n",
    "avg"
   ]
  },
  {
   "cell_type": "markdown",
   "id": "single-exhibit",
   "metadata": {},
   "source": [
    "Graphing top companies that earn the most on average per movie"
   ]
  },
  {
   "cell_type": "code",
   "execution_count": 379,
   "id": "charming-earth",
   "metadata": {},
   "outputs": [
    {
     "data": {
      "image/png": "[encoded data removed]",
      "text/plain": [
       "<Figure size 432x288 with 1 Axes>"
      ]
     },
     "metadata": {
      "needs_background": "light"
     },
     "output_type": "display_data"
    }
   ],
   "source": [
    "ax2 = avg.head().plot.bar(x='production_companies', y='profit', rot=90)"
   ]
  },
  {
   "cell_type": "markdown",
   "id": "similar-pathology",
   "metadata": {},
   "source": [
    "The top most profitable companies on average (meaning they are consistently profitable) are different from the top profit earners, which indicates that the companies that generate more revenue don't generate the most money per movie, rather, they make more movies, which allows them to earn more profit.\n",
    "\n",
    "More successful companies have a name brand, so it is important to consider production company as a predictor variable\n",
    "\n",
    "**Note:** To see more on how to configure boxplots (such as adjusting the colors, creating a legend, etc.) consult the link below:\n",
    "\n",
    "https://pandas.pydata.org/docs/reference/api/pandas.DataFrame.plot.bar.html"
   ]
  },
  {
   "cell_type": "markdown",
   "id": "rational-sally",
   "metadata": {},
   "source": [
    "**Production Country**"
   ]
  },
  {
   "cell_type": "markdown",
   "id": "deadly-highway",
   "metadata": {},
   "source": [
    "Setting up for the violin plot by grouping the data in lists based off of production country"
   ]
  },
  {
   "cell_type": "code",
   "execution_count": 380,
   "id": "secret-answer",
   "metadata": {},
   "outputs": [],
   "source": [
    "# create an 2-D np array where each row represents a country\n",
    "rev_per_country = list() # each year has 142 entries\n",
    "\n",
    "# looping through data grouped by genre\n",
    "for name, group in movies.groupby(movies.production_countries):\n",
    "    lst = list(group['profit']) # list of the different revenues per country\n",
    "    rev_per_country.append(np.array(lst))\n",
    "\n",
    "# Creating the x-axis of countries\n",
    "country_list = movies.production_countries.unique().tolist()\n",
    "country_list.insert(0, \"\")"
   ]
  },
  {
   "cell_type": "markdown",
   "id": "hybrid-sacrifice",
   "metadata": {},
   "source": [
    "Creating the violin plot"
   ]
  },
  {
   "cell_type": "code",
   "execution_count": 381,
   "id": "subsequent-sacramento",
   "metadata": {},
   "outputs": [
    {
     "data": {
      "text/plain": [
       "Text(0.5, 1.0, 'Revenue vs Production Country')"
      ]
     },
     "execution_count": 381,
     "metadata": {},
     "output_type": "execute_result"
    },
    {
     "data": {
      "image/png": "[encoded data removed]",
      "text/plain": [
       "<Figure size 720x504 with 1 Axes>"
      ]
     },
     "metadata": {
      "needs_background": "light"
     },
     "output_type": "display_data"
    }
   ],
   "source": [
    "fig, ax = plt.subplots(figsize=(10,7))\n",
    "plt.xticks(np.arange(0, len(country_list)))\n",
    "num = range(1,len(country_list)) # temp numerical x axis tic marks\n",
    "\n",
    "# graphing the Revenue vs Production Country\n",
    "ax.violinplot(rev_per_country, num, widths=1,showmeans=True)\n",
    "\n",
    "# Renaming the tick marks\n",
    "ax.set_xticklabels(country_list, rotation = (90))\n",
    "\n",
    "# adjusting labels\n",
    "ax.set_xlabel(\"Genre\")\n",
    "ax.set_ylabel(\"Box Office Profit (billions of dollars)\")\n",
    "ax.set_title(\"Revenue vs Production Country\")"
   ]
  },
  {
   "cell_type": "markdown",
   "id": "substantial-moscow",
   "metadata": {},
   "source": [
    "Some countries generate a lot more total profit than others. Note the violin plots for Greece (GR), South Korea (KR), Brazil (BR), Australia (AU), and Italy (IT). Production country could possibly be a good indicator for how profitable a movie would be"
   ]
  },
  {
   "cell_type": "markdown",
   "id": "formed-highland",
   "metadata": {},
   "source": [
    "**Release Month**"
   ]
  },
  {
   "cell_type": "markdown",
   "id": "grand-zambia",
   "metadata": {},
   "source": [
    "Setting up for the violin plot by grouping the data in lists based off of release month"
   ]
  },
  {
   "cell_type": "code",
   "execution_count": 382,
   "id": "objective-shanghai",
   "metadata": {},
   "outputs": [],
   "source": [
    "# create an 2-D np array where each row represents a genre\n",
    "rev_per_month = list() # each year has 142 entries\n",
    "\n",
    "# looping through data grouped by genre\n",
    "for name, group in movies.groupby(movies.release_month):\n",
    "    lst = list(group['profit']) # list of the different revenues per language\n",
    "    rev_per_month.append(np.array(lst))\n",
    "\n",
    "# Creating the x-axis of genres\n",
    "month_list = movies.release_month.unique().tolist()\n",
    "month_list.insert(0, \"\")"
   ]
  },
  {
   "cell_type": "markdown",
   "id": "young-modeling",
   "metadata": {},
   "source": [
    "Graphing the violin plot"
   ]
  },
  {
   "cell_type": "code",
   "execution_count": 383,
   "id": "classical-barcelona",
   "metadata": {},
   "outputs": [
    {
     "data": {
      "text/plain": [
       "Text(0.5, 1.0, 'Revenue vs Release Month')"
      ]
     },
     "execution_count": 383,
     "metadata": {},
     "output_type": "execute_result"
    },
    {
     "data": {
      "image/png": "[encoded data removed]",
      "text/plain": [
       "<Figure size 720x504 with 1 Axes>"
      ]
     },
     "metadata": {
      "needs_background": "light"
     },
     "output_type": "display_data"
    }
   ],
   "source": [
    "fig, ax = plt.subplots(figsize=(10,7))\n",
    "plt.xticks(np.arange(0, len(month_list)))\n",
    "num = range(1,len(month_list)) # temp numerical x axis tic marks\n",
    "\n",
    "# graphing the life expectancy vs years\n",
    "ax.violinplot(rev_per_month, num, widths=1,showmeans=True)\n",
    "\n",
    "# Renaming the tick marks\n",
    "ax.set_xticklabels(month_list, rotation = (90))\n",
    "\n",
    "# adjusting labels\n",
    "ax.set_xlabel(\"Genre\")\n",
    "ax.set_ylabel(\"Box Office Profits (billions of dollars)\")\n",
    "ax.set_title(\"Revenue vs Release Month\")"
   ]
  },
  {
   "cell_type": "markdown",
   "id": "executed-reaction",
   "metadata": {},
   "source": [
    "The average profit across the months are about the same, therefore, release month is not a needed indicator for the prediction model."
   ]
  },
  {
   "cell_type": "markdown",
   "id": "wireless-reservoir",
   "metadata": {},
   "source": [
    "### 4.3 Summary\n",
    "\n",
    "Out of the categorical variables, genres, production companies, and production country have possible correlation with box office profits. The other variables are extraneous information, and including them within the prediction model could result in overfitting the data to the training data for the next section."
   ]
  },
  {
   "cell_type": "markdown",
   "id": "adapted-universe",
   "metadata": {},
   "source": [
    "## 5. Machine Learning Algorithm"
   ]
  },
  {
   "cell_type": "markdown",
   "id": "provincial-insertion",
   "metadata": {},
   "source": [
    "In the last section. we visualized the data to help a better understanding of how box office profits related to the categorical and qualatative variables of this data set. We correlated each qualatative column and had a better understanding how the attribute groups are correlated with each other. \n",
    "\n",
    "In this section, we want to build a machine learning model from these features-label pairs, which comprise our training set. The goal is to make accurate predictions for new, never-before-seen data."
   ]
  },
  {
   "cell_type": "markdown",
   "id": "insured-fields",
   "metadata": {},
   "source": [
    "### 5.1. Data Standardization"
   ]
  },
  {
   "cell_type": "markdown",
   "id": "reasonable-inventory",
   "metadata": {},
   "source": [
    "Using the fit_transform included in the sklearn.preprocessing.LabelEncoder library, we can transform our categorical data into numerical values, as our machine learning model can better process numerical data. To read more into the other functions found within the LabelEncoder, check out the link below:\n",
    "\n",
    "https://scikit-learn.org/stable/modules/generated/sklearn.preprocessing.LabelEncoder.html"
   ]
  },
  {
   "cell_type": "code",
   "execution_count": 384,
   "id": "through-valuation",
   "metadata": {},
   "outputs": [],
   "source": [
    "categorical = ['genres', 'production_companies', 'production_countries'] # categorical variables we want to include\n",
    "le = sklearn.preprocessing.LabelEncoder()\n",
    "\n",
    "for column in categorical: # looping through each of the columns to \n",
    "    movies[column] = le.fit_transform(movies[column])"
   ]
  },
  {
   "cell_type": "code",
   "execution_count": 390,
   "id": "ultimate-coordination",
   "metadata": {},
   "outputs": [
    {
     "data": {
      "text/html": [
       "<div>\n",
       "<style scoped>\n",
       "    .dataframe tbody tr th:only-of-type {\n",
       "        vertical-align: middle;\n",
       "    }\n",
       "\n",
       "    .dataframe tbody tr th {\n",
       "        vertical-align: top;\n",
       "    }\n",
       "\n",
       "    .dataframe thead th {\n",
       "        text-align: right;\n",
       "    }\n",
       "</style>\n",
       "<table border=\"1\" class=\"dataframe\">\n",
       "  <thead>\n",
       "    <tr style=\"text-align: right;\">\n",
       "      <th></th>\n",
       "      <th>title</th>\n",
       "      <th>budget</th>\n",
       "      <th>revenue</th>\n",
       "      <th>vote_average</th>\n",
       "      <th>genres</th>\n",
       "      <th>original_language</th>\n",
       "      <th>popularity</th>\n",
       "      <th>production_companies</th>\n",
       "      <th>production_countries</th>\n",
       "      <th>runtime</th>\n",
       "      <th>release_month</th>\n",
       "      <th>profit</th>\n",
       "    </tr>\n",
       "  </thead>\n",
       "  <tbody>\n",
       "    <tr>\n",
       "      <th>0</th>\n",
       "      <td>Avatar</td>\n",
       "      <td>4.795</td>\n",
       "      <td>2787965087</td>\n",
       "      <td>0.818</td>\n",
       "      <td>0</td>\n",
       "      <td>en</td>\n",
       "      <td>4.824</td>\n",
       "      <td>331</td>\n",
       "      <td>43</td>\n",
       "      <td>2.200</td>\n",
       "      <td>12</td>\n",
       "      <td>2550965087</td>\n",
       "    </tr>\n",
       "    <tr>\n",
       "      <th>1</th>\n",
       "      <td>Pirates of the Caribbean: At World's End</td>\n",
       "      <td>6.227</td>\n",
       "      <td>961000000</td>\n",
       "      <td>0.545</td>\n",
       "      <td>1</td>\n",
       "      <td>en</td>\n",
       "      <td>4.401</td>\n",
       "      <td>709</td>\n",
       "      <td>43</td>\n",
       "      <td>2.480</td>\n",
       "      <td>5</td>\n",
       "      <td>661000000</td>\n",
       "    </tr>\n",
       "    <tr>\n",
       "      <th>2</th>\n",
       "      <td>Spectre</td>\n",
       "      <td>4.977</td>\n",
       "      <td>880674609</td>\n",
       "      <td>0.000</td>\n",
       "      <td>0</td>\n",
       "      <td>en</td>\n",
       "      <td>3.222</td>\n",
       "      <td>143</td>\n",
       "      <td>18</td>\n",
       "      <td>1.640</td>\n",
       "      <td>10</td>\n",
       "      <td>635674609</td>\n",
       "    </tr>\n",
       "    <tr>\n",
       "      <th>3</th>\n",
       "      <td>The Dark Knight Rises</td>\n",
       "      <td>5.091</td>\n",
       "      <td>1084939099</td>\n",
       "      <td>1.182</td>\n",
       "      <td>0</td>\n",
       "      <td>en</td>\n",
       "      <td>3.406</td>\n",
       "      <td>381</td>\n",
       "      <td>43</td>\n",
       "      <td>2.320</td>\n",
       "      <td>7</td>\n",
       "      <td>834939099</td>\n",
       "    </tr>\n",
       "    <tr>\n",
       "      <th>4</th>\n",
       "      <td>John Carter</td>\n",
       "      <td>5.318</td>\n",
       "      <td>284139100</td>\n",
       "      <td>-0.182</td>\n",
       "      <td>0</td>\n",
       "      <td>en</td>\n",
       "      <td>0.862</td>\n",
       "      <td>709</td>\n",
       "      <td>43</td>\n",
       "      <td>1.000</td>\n",
       "      <td>3</td>\n",
       "      <td>24139100</td>\n",
       "    </tr>\n",
       "    <tr>\n",
       "      <th>...</th>\n",
       "      <td>...</td>\n",
       "      <td>...</td>\n",
       "      <td>...</td>\n",
       "      <td>...</td>\n",
       "      <td>...</td>\n",
       "      <td>...</td>\n",
       "      <td>...</td>\n",
       "      <td>...</td>\n",
       "      <td>...</td>\n",
       "      <td>...</td>\n",
       "      <td>...</td>\n",
       "      <td>...</td>\n",
       "    </tr>\n",
       "    <tr>\n",
       "      <th>3180</th>\n",
       "      <td>Clerks</td>\n",
       "      <td>-0.590</td>\n",
       "      <td>3151130</td>\n",
       "      <td>1.000</td>\n",
       "      <td>3</td>\n",
       "      <td>en</td>\n",
       "      <td>-0.037</td>\n",
       "      <td>444</td>\n",
       "      <td>43</td>\n",
       "      <td>-0.600</td>\n",
       "      <td>9</td>\n",
       "      <td>3124130</td>\n",
       "    </tr>\n",
       "    <tr>\n",
       "      <th>3181</th>\n",
       "      <td>Pink Flamingos</td>\n",
       "      <td>-0.591</td>\n",
       "      <td>6000000</td>\n",
       "      <td>-0.091</td>\n",
       "      <td>11</td>\n",
       "      <td>en</td>\n",
       "      <td>-0.602</td>\n",
       "      <td>194</td>\n",
       "      <td>43</td>\n",
       "      <td>-0.560</td>\n",
       "      <td>3</td>\n",
       "      <td>5988000</td>\n",
       "    </tr>\n",
       "    <tr>\n",
       "      <th>3182</th>\n",
       "      <td>Cure</td>\n",
       "      <td>-0.590</td>\n",
       "      <td>99000</td>\n",
       "      <td>1.000</td>\n",
       "      <td>4</td>\n",
       "      <td>ja</td>\n",
       "      <td>-0.764</td>\n",
       "      <td>165</td>\n",
       "      <td>30</td>\n",
       "      <td>0.160</td>\n",
       "      <td>11</td>\n",
       "      <td>79000</td>\n",
       "    </tr>\n",
       "    <tr>\n",
       "      <th>3183</th>\n",
       "      <td>Primer</td>\n",
       "      <td>-0.591</td>\n",
       "      <td>424760</td>\n",
       "      <td>0.545</td>\n",
       "      <td>15</td>\n",
       "      <td>en</td>\n",
       "      <td>0.095</td>\n",
       "      <td>654</td>\n",
       "      <td>43</td>\n",
       "      <td>-1.200</td>\n",
       "      <td>10</td>\n",
       "      <td>417760</td>\n",
       "    </tr>\n",
       "    <tr>\n",
       "      <th>3184</th>\n",
       "      <td>El Mariachi</td>\n",
       "      <td>-0.586</td>\n",
       "      <td>2040920</td>\n",
       "      <td>0.273</td>\n",
       "      <td>0</td>\n",
       "      <td>es</td>\n",
       "      <td>-0.241</td>\n",
       "      <td>143</td>\n",
       "      <td>34</td>\n",
       "      <td>-1.040</td>\n",
       "      <td>9</td>\n",
       "      <td>1820920</td>\n",
       "    </tr>\n",
       "  </tbody>\n",
       "</table>\n",
       "<p>3185 rows × 12 columns</p>\n",
       "</div>"
      ],
      "text/plain": [
       "                                         title  budget     revenue  \\\n",
       "0                                       Avatar   4.795  2787965087   \n",
       "1     Pirates of the Caribbean: At World's End   6.227   961000000   \n",
       "2                                      Spectre   4.977   880674609   \n",
       "3                        The Dark Knight Rises   5.091  1084939099   \n",
       "4                                  John Carter   5.318   284139100   \n",
       "...                                        ...     ...         ...   \n",
       "3180                                    Clerks  -0.590     3151130   \n",
       "3181                            Pink Flamingos  -0.591     6000000   \n",
       "3182                                      Cure  -0.590       99000   \n",
       "3183                                    Primer  -0.591      424760   \n",
       "3184                               El Mariachi  -0.586     2040920   \n",
       "\n",
       "      vote_average  genres original_language  popularity  \\\n",
       "0            0.818       0                en       4.824   \n",
       "1            0.545       1                en       4.401   \n",
       "2            0.000       0                en       3.222   \n",
       "3            1.182       0                en       3.406   \n",
       "4           -0.182       0                en       0.862   \n",
       "...            ...     ...               ...         ...   \n",
       "3180         1.000       3                en      -0.037   \n",
       "3181        -0.091      11                en      -0.602   \n",
       "3182         1.000       4                ja      -0.764   \n",
       "3183         0.545      15                en       0.095   \n",
       "3184         0.273       0                es      -0.241   \n",
       "\n",
       "      production_companies  production_countries  runtime  release_month  \\\n",
       "0                      331                    43    2.200             12   \n",
       "1                      709                    43    2.480              5   \n",
       "2                      143                    18    1.640             10   \n",
       "3                      381                    43    2.320              7   \n",
       "4                      709                    43    1.000              3   \n",
       "...                    ...                   ...      ...            ...   \n",
       "3180                   444                    43   -0.600              9   \n",
       "3181                   194                    43   -0.560              3   \n",
       "3182                   165                    30    0.160             11   \n",
       "3183                   654                    43   -1.200             10   \n",
       "3184                   143                    34   -1.040              9   \n",
       "\n",
       "          profit  \n",
       "0     2550965087  \n",
       "1      661000000  \n",
       "2      635674609  \n",
       "3      834939099  \n",
       "4       24139100  \n",
       "...          ...  \n",
       "3180     3124130  \n",
       "3181     5988000  \n",
       "3182       79000  \n",
       "3183      417760  \n",
       "3184     1820920  \n",
       "\n",
       "[3185 rows x 12 columns]"
      ]
     },
     "execution_count": 390,
     "metadata": {},
     "output_type": "execute_result"
    }
   ],
   "source": [
    "movies # what the dataframe looks like now"
   ]
  },
  {
   "cell_type": "markdown",
   "id": "ecological-modification",
   "metadata": {},
   "source": [
    "### 5.2. Splitting Data"
   ]
  },
  {
   "cell_type": "markdown",
   "id": "strange-amber",
   "metadata": {},
   "source": [
    "A general practice for the machine learning model is to split the data, with a large portion of the data going towards the training data (teaching the machine learning model to accurately predict new data), and the smaller portion going towards testing data (to make sure you don't overfit the model to the training data). We will be utilizing 70% of the data for training and 30% for testing, but the size can vary. Read more about the size of splitting the data here:\n",
    "\n",
    "https://docs.aws.amazon.com/machine-learning/latest/dg/splitting-the-data-into-training-and-evaluation-data.html"
   ]
  },
  {
   "cell_type": "code",
   "execution_count": 391,
   "id": "enormous-treat",
   "metadata": {},
   "outputs": [],
   "source": [
    "# Sepratating & assigning features and target columns to x and y variables\n",
    "\n",
    "y = movies['profit'] # dependent variables\n",
    "X = movies.drop(['profit', 'title', 'release_month', 'original_language', 'revenue'],axis=1) # the predictors (independant variables) that are not needed\n",
    "# we don't want to include revenue as profit is calculated off of this"
   ]
  },
  {
   "cell_type": "code",
   "execution_count": 392,
   "id": "designing-shannon",
   "metadata": {},
   "outputs": [],
   "source": [
    "X_train, X_test, y_train, y_test = train_test_split(X, y, test_size = 0.3) # splitting the data with 30% for testing"
   ]
  },
  {
   "cell_type": "markdown",
   "id": "mineral-sensitivity",
   "metadata": {},
   "source": [
    "### 4.3 Model Building & Training"
   ]
  },
  {
   "cell_type": "markdown",
   "id": "seventh-remainder",
   "metadata": {},
   "source": [
    "**4.3.2. Decision Tree Model**"
   ]
  },
  {
   "cell_type": "markdown",
   "id": "fitted-brother",
   "metadata": {},
   "source": [
    "Decision trees are widely used models for classification and regression tasks. Essentially, they learn a hierarchy of if/else questions, leading to a decision. Learning a decision tree means learning the sequence of if/else questions that gets us to the true answer most quickly.\n",
    "\n",
    "In the machine learning setting, these questions are called tests. To build a tree, the algorithm searches over all possible tests and finds the one that is most informative about the target variable."
   ]
  },
  {
   "cell_type": "code",
   "execution_count": 393,
   "id": "stopped-bernard",
   "metadata": {},
   "outputs": [
    {
     "name": "stdout",
     "output_type": "stream",
     "text": [
      "Decision Tree: Accuracy on training Data: 0.844\n",
      "Decision Tree: Accuracy on test Data: 0.271\n"
     ]
    }
   ],
   "source": [
    "from sklearn.tree import DecisionTreeRegressor\n",
    "\n",
    "# instantiate the model \n",
    "tree = DecisionTreeRegressor(max_depth=9)\n",
    "# fit the model \n",
    "tree.fit(X_train, y_train)\n",
    "\n",
    "#predicting the target value from the model for the samples\n",
    "y_test_tree = tree.predict(X_test)\n",
    "y_train_tree = tree.predict(X_train)\n",
    "\n",
    "#computing the accuracy of the model performance\n",
    "acc_train_tree = tree.score(X_train, y_train)\n",
    "acc_test_tree = tree.score(X_test, y_test)\n",
    "\n",
    "#computing root mean squared error (RMSE)\n",
    "rmse_train_tree = np.sqrt(mean_squared_error(y_train, y_train_tree))\n",
    "rmse_test_tree = np.sqrt(mean_squared_error(y_test, y_test_tree))\n",
    "\n",
    "print(\"Decision Tree: Accuracy on training Data: {:.3f}\".format(acc_train_tree))\n",
    "print(\"Decision Tree: Accuracy on test Data: {:.3f}\".format(acc_test_tree))"
   ]
  },
  {
   "cell_type": "markdown",
   "id": "brutal-phoenix",
   "metadata": {},
   "source": [
    "The decision tree has a only a 0.304 accuracy in correctly predicting new, unknown data while having an high accuracy rate for the training data. This indicates that overfitting may be a problem in this decision tree. Let's try a different model"
   ]
  },
  {
   "cell_type": "markdown",
   "id": "renewable-success",
   "metadata": {},
   "source": [
    "**4.3.2. Linear Regression Model**"
   ]
  },
  {
   "cell_type": "markdown",
   "id": "decreased-alloy",
   "metadata": {},
   "source": [
    "Linear regression, or ordinary least squares (OLS), is the simplest and most classic linear method for regression. Linear regression finds the parameters w and b that minimize the mean squared error between predictions and the true regression targets, y, on the training set."
   ]
  },
  {
   "cell_type": "code",
   "execution_count": 394,
   "id": "absolute-scratch",
   "metadata": {},
   "outputs": [
    {
     "name": "stdout",
     "output_type": "stream",
     "text": [
      "Linear Regression: Accuracy on Training Data: 0.470\n",
      "Linear Regression: Accuracy on Test Data: 0.470\n"
     ]
    }
   ],
   "source": [
    "# instantiate the model\n",
    "lr = LinearRegression()\n",
    "# fit the model \n",
    "lr.fit(X_train, y_train)\n",
    "\n",
    "#predicting the target value from the model for the samples\n",
    "y_test_lr = lr.predict(X_test)\n",
    "y_train_lr = lr.predict(X_train)\n",
    "\n",
    "#computing the accuracy of the model performance\n",
    "acc_train_lr = lr.score(X_train, y_train)\n",
    "acc_test_lr = lr.score(X_test, y_test)\n",
    "\n",
    "#computing root mean squared error (RMSE)\n",
    "rmse_train_lr = np.sqrt(mean_squared_error(y_train, y_train_lr))\n",
    "rmse_test_lr = np.sqrt(mean_squared_error(y_test, y_test_lr))\n",
    "\n",
    "print(\"Linear Regression: Accuracy on Training Data: {:.3f}\".format(acc_train_lr))\n",
    "print(\"Linear Regression: Accuracy on Test Data: {:.3f}\".format(acc_test_lr))"
   ]
  },
  {
   "cell_type": "markdown",
   "id": "future-evaluation",
   "metadata": {},
   "source": [
    "The Linear Regression model has a better accuracy than the decision tree, and overfitting is less of a problem here!"
   ]
  },
  {
   "cell_type": "markdown",
   "id": "formal-ordinary",
   "metadata": {},
   "source": [
    "## Conclusion"
   ]
  },
  {
   "cell_type": "markdown",
   "id": "indonesian-appraisal",
   "metadata": {},
   "source": [
    "With this tutorial, we set out to analyze the box office profits relationship with budget, vote average, genres, original language, popularity, production companies, production countries, runtime, release month. From data analysis and visualization part, we know that the box office profit is related to the budget, vote average, genres, popularity, production companies, production countries, and runtime. \n",
    "\n",
    "During the machine learning part, I used Linear Regression model and Decision tree model to predict the box office profit of unknown movies. We know that for this data, use Linear Regression to predict is better than use decision tree."
   ]
  },
  {
   "cell_type": "code",
   "execution_count": null,
   "id": "animal-tobago",
   "metadata": {},
   "outputs": [],
   "source": []
  }
 ],
 "metadata": {
  "kernelspec": {
   "display_name": "Python 3",
   "language": "python",
   "name": "python3"
  },
  "language_info": {
   "codemirror_mode": {
    "name": "ipython",
    "version": 3
   },
   "file_extension": ".py",
   "mimetype": "text/x-python",
   "name": "python",
   "nbconvert_exporter": "python",
   "pygments_lexer": "ipython3",
   "version": "3.8.6"
  }
 },
 "nbformat": 4,
 "nbformat_minor": 5
}
